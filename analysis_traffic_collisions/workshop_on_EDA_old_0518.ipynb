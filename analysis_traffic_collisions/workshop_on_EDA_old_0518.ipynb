{
 "cells": [
  {
   "cell_type": "markdown",
   "metadata": {},
   "source": [
    "# Exploratory Data Analysis Workshop\n",
    "\n",
    "June 24, 2020  \n",
    "\n",
    "#### Welcome/Purpose of Workshop\n",
    "- improve skills\n",
    "- join our project team\n",
    "\n",
    "#### About Data Circles\n",
    "\n",
    "\n",
    "#### About Speakers"
   ]
  },
  {
   "cell_type": "markdown",
   "metadata": {},
   "source": [
    "## 1. Introduction to the project\n",
    "\n",
    "Until driverless vehicles become the norm, traffic collisions will continue to be a problem. According to the [Washington State Dept. of Transportation (WSDOT)](https://www.wsdot.wa.gov/mapsdata/crash/pdf/2015_Annual_Collision_Summary.pdf), in 2015, Washington had:  \n",
    "\n",
    "• 5,576,586 Licensed Drivers  \n",
    "• 6,252,554 Registered Vehicles  \n",
    "• 59.7 billion Vehicle Miles traveled  \n",
    "• 416,699 Speeding citations filed with Washington State Courts  \n",
    "• 33,697 Cell phone and texting citations filed with Washington State Courts  \n",
    "• 26,363 DUI cases filed with Washington State Courts  \n",
    "• 117,053 Total collisions  \n",
    "    $\\,\\,\\,\\,\\,\\,$ • Fridays had the most collisions \n",
    "    $\\,\\,\\,\\,\\,\\,$ • Sundays had the fewest collisions \n",
    "    $\\,\\,\\,\\,\\,\\,$ • Rush hour had the most collisions, with the highest number during 5:00 p.m. - 5:59 p.m.  \n",
    "    $\\,\\,\\,\\,\\,\\,$ • The middle of the night had the fewest crashes, with the least number during 3:00 a.m. - 3:59 a.m.  \n",
    "    $\\,\\,\\,\\,\\,\\,$ • December had the most crashes (on average, 401 per day)  \n",
    "    $\\,\\,\\,\\,\\,\\,$ • February had the fewest crashes (271 per day)  \n",
    "    $\\,\\,\\,\\,\\,\\,$ • Driver inattention or distraction was the most frequent contributing factor     \n",
    "\n",
    "Source: CLAS (WSDOT), FARS (WTSC), DOL and AOC  \n",
    "\n",
    "So, by analyzing crash data we hope to identify the most dangerous sections of road in Seattle and suggest improvements.  \n",
    "\n",
    "If you are interested in joining the project team, please signup at datacircles.com {whatever the address is ???????}.  "
   ]
  },
  {
   "cell_type": "markdown",
   "metadata": {},
   "source": [
    "## 3. Import packages"
   ]
  },
  {
   "cell_type": "code",
   "execution_count": 1,
   "metadata": {
    "colab": {},
    "colab_type": "code",
    "id": "sFG7fxc7tGes"
   },
   "outputs": [],
   "source": [
    "import numpy as np\n",
    "import pandas as pd\n",
    "import seaborn as sns\n",
    "import matplotlib.pyplot as plt\n",
    "%matplotlib inline\n",
    "\n",
    "pd.options.display.max_rows = 1000\n",
    "pd.options.display.max_columns = 100\n",
    "\n",
    "import warnings\n",
    "warnings.filterwarnings('ignore') \n",
    "\n",
    "from datetime import datetime\n",
    "from IPython.display import display, Markdown"
   ]
  },
  {
   "cell_type": "markdown",
   "metadata": {},
   "source": [
    "## 4. Read the data into a dataframe"
   ]
  },
  {
   "cell_type": "code",
   "execution_count": 2,
   "metadata": {},
   "outputs": [
    {
     "data": {
      "text/html": [
       "<div>\n",
       "<style scoped>\n",
       "    .dataframe tbody tr th:only-of-type {\n",
       "        vertical-align: middle;\n",
       "    }\n",
       "\n",
       "    .dataframe tbody tr th {\n",
       "        vertical-align: top;\n",
       "    }\n",
       "\n",
       "    .dataframe thead th {\n",
       "        text-align: right;\n",
       "    }\n",
       "</style>\n",
       "<table border=\"1\" class=\"dataframe\">\n",
       "  <thead>\n",
       "    <tr style=\"text-align: right;\">\n",
       "      <th></th>\n",
       "      <th>X</th>\n",
       "      <th>Y</th>\n",
       "      <th>OBJECTID</th>\n",
       "      <th>INCKEY</th>\n",
       "      <th>COLDETKEY</th>\n",
       "      <th>REPORTNO</th>\n",
       "      <th>STATUS</th>\n",
       "      <th>ADDRTYPE</th>\n",
       "      <th>INTKEY</th>\n",
       "      <th>LOCATION</th>\n",
       "      <th>EXCEPTRSNCODE</th>\n",
       "      <th>EXCEPTRSNDESC</th>\n",
       "      <th>SEVERITYCODE</th>\n",
       "      <th>SEVERITYDESC</th>\n",
       "      <th>COLLISIONTYPE</th>\n",
       "      <th>PERSONCOUNT</th>\n",
       "      <th>PEDCOUNT</th>\n",
       "      <th>PEDCYLCOUNT</th>\n",
       "      <th>VEHCOUNT</th>\n",
       "      <th>INJURIES</th>\n",
       "      <th>SERIOUSINJURIES</th>\n",
       "      <th>FATALITIES</th>\n",
       "      <th>INCDATE</th>\n",
       "      <th>INCDTTM</th>\n",
       "      <th>JUNCTIONTYPE</th>\n",
       "      <th>SDOT_COLCODE</th>\n",
       "      <th>SDOT_COLDESC</th>\n",
       "      <th>INATTENTIONIND</th>\n",
       "      <th>UNDERINFL</th>\n",
       "      <th>WEATHER</th>\n",
       "      <th>ROADCOND</th>\n",
       "      <th>LIGHTCOND</th>\n",
       "      <th>PEDROWNOTGRNT</th>\n",
       "      <th>SDOTCOLNUM</th>\n",
       "      <th>SPEEDING</th>\n",
       "      <th>ST_COLCODE</th>\n",
       "      <th>ST_COLDESC</th>\n",
       "      <th>SEGLANEKEY</th>\n",
       "      <th>CROSSWALKKEY</th>\n",
       "      <th>HITPARKEDCAR</th>\n",
       "    </tr>\n",
       "  </thead>\n",
       "  <tbody>\n",
       "    <tr>\n",
       "      <th>0</th>\n",
       "      <td>-122.301317</td>\n",
       "      <td>47.545344</td>\n",
       "      <td>1</td>\n",
       "      <td>24100</td>\n",
       "      <td>24100</td>\n",
       "      <td>1788069</td>\n",
       "      <td>Matched</td>\n",
       "      <td>Block</td>\n",
       "      <td>NaN</td>\n",
       "      <td>S EDDY ST BETWEEN 24TH AVE S AND BEACON WR AVE S</td>\n",
       "      <td>NaN</td>\n",
       "      <td>NaN</td>\n",
       "      <td>1</td>\n",
       "      <td>Property Damage Only Collision</td>\n",
       "      <td>Parked Car</td>\n",
       "      <td>3</td>\n",
       "      <td>0</td>\n",
       "      <td>0</td>\n",
       "      <td>3</td>\n",
       "      <td>0</td>\n",
       "      <td>0</td>\n",
       "      <td>0</td>\n",
       "      <td>2004/03/22 00:00:00+00</td>\n",
       "      <td>2004-03-22 06:43:00</td>\n",
       "      <td>Mid-Block (not related to intersection)</td>\n",
       "      <td>14.0</td>\n",
       "      <td>MOTOR VEHICLE STRUCK MOTOR VEHICLE, REAR END</td>\n",
       "      <td>Y</td>\n",
       "      <td>0</td>\n",
       "      <td>Clear</td>\n",
       "      <td>Dry</td>\n",
       "      <td>Daylight</td>\n",
       "      <td>NaN</td>\n",
       "      <td>4082010.0</td>\n",
       "      <td>NaN</td>\n",
       "      <td>32</td>\n",
       "      <td>One parked--one moving</td>\n",
       "      <td>0</td>\n",
       "      <td>0</td>\n",
       "      <td>N</td>\n",
       "    </tr>\n",
       "    <tr>\n",
       "      <th>1</th>\n",
       "      <td>-122.312515</td>\n",
       "      <td>47.548167</td>\n",
       "      <td>2</td>\n",
       "      <td>322338</td>\n",
       "      <td>323838</td>\n",
       "      <td>3815050</td>\n",
       "      <td>Matched</td>\n",
       "      <td>Intersection</td>\n",
       "      <td>33383.0</td>\n",
       "      <td>CORGIAT DR S AND S ALBRO PL</td>\n",
       "      <td></td>\n",
       "      <td>NaN</td>\n",
       "      <td>2</td>\n",
       "      <td>Injury Collision</td>\n",
       "      <td>Angles</td>\n",
       "      <td>2</td>\n",
       "      <td>0</td>\n",
       "      <td>0</td>\n",
       "      <td>2</td>\n",
       "      <td>1</td>\n",
       "      <td>0</td>\n",
       "      <td>0</td>\n",
       "      <td>2019/08/09 00:00:00+00</td>\n",
       "      <td>2019-08-09 18:58:00</td>\n",
       "      <td>At Intersection (intersection related)</td>\n",
       "      <td>11.0</td>\n",
       "      <td>MOTOR VEHICLE STRUCK MOTOR VEHICLE, FRONT END ...</td>\n",
       "      <td>NaN</td>\n",
       "      <td>N</td>\n",
       "      <td>Clear</td>\n",
       "      <td>Dry</td>\n",
       "      <td>Daylight</td>\n",
       "      <td>NaN</td>\n",
       "      <td>NaN</td>\n",
       "      <td>NaN</td>\n",
       "      <td>10</td>\n",
       "      <td>Entering at angle</td>\n",
       "      <td>0</td>\n",
       "      <td>0</td>\n",
       "      <td>N</td>\n",
       "    </tr>\n",
       "    <tr>\n",
       "      <th>2</th>\n",
       "      <td>-122.348195</td>\n",
       "      <td>47.723218</td>\n",
       "      <td>3</td>\n",
       "      <td>32200</td>\n",
       "      <td>32200</td>\n",
       "      <td>1079610</td>\n",
       "      <td>Matched</td>\n",
       "      <td>Intersection</td>\n",
       "      <td>35826.0</td>\n",
       "      <td>LINDEN AVE N AND N 130TH ST</td>\n",
       "      <td>NaN</td>\n",
       "      <td>NaN</td>\n",
       "      <td>1</td>\n",
       "      <td>Property Damage Only Collision</td>\n",
       "      <td>Left Turn</td>\n",
       "      <td>2</td>\n",
       "      <td>0</td>\n",
       "      <td>0</td>\n",
       "      <td>2</td>\n",
       "      <td>0</td>\n",
       "      <td>0</td>\n",
       "      <td>0</td>\n",
       "      <td>2004/08/30 00:00:00+00</td>\n",
       "      <td>2004-08-30 13:33:00</td>\n",
       "      <td>At Intersection (intersection related)</td>\n",
       "      <td>11.0</td>\n",
       "      <td>MOTOR VEHICLE STRUCK MOTOR VEHICLE, FRONT END ...</td>\n",
       "      <td>Y</td>\n",
       "      <td>0</td>\n",
       "      <td>Clear</td>\n",
       "      <td>Dry</td>\n",
       "      <td>Daylight</td>\n",
       "      <td>NaN</td>\n",
       "      <td>4243021.0</td>\n",
       "      <td>NaN</td>\n",
       "      <td>28</td>\n",
       "      <td>From opposite direction - one left turn - one ...</td>\n",
       "      <td>0</td>\n",
       "      <td>0</td>\n",
       "      <td>N</td>\n",
       "    </tr>\n",
       "    <tr>\n",
       "      <th>3</th>\n",
       "      <td>-122.385577</td>\n",
       "      <td>47.552091</td>\n",
       "      <td>4</td>\n",
       "      <td>59600</td>\n",
       "      <td>59600</td>\n",
       "      <td>2613682</td>\n",
       "      <td>Matched</td>\n",
       "      <td>Intersection</td>\n",
       "      <td>32804.0</td>\n",
       "      <td>42ND AVE SW AND SW FINDLAY ST</td>\n",
       "      <td>NaN</td>\n",
       "      <td>NaN</td>\n",
       "      <td>1</td>\n",
       "      <td>Property Damage Only Collision</td>\n",
       "      <td>Angles</td>\n",
       "      <td>6</td>\n",
       "      <td>0</td>\n",
       "      <td>0</td>\n",
       "      <td>2</td>\n",
       "      <td>0</td>\n",
       "      <td>0</td>\n",
       "      <td>0</td>\n",
       "      <td>2006/08/19 00:00:00+00</td>\n",
       "      <td>2006-08-19 12:09:00</td>\n",
       "      <td>At Intersection (intersection related)</td>\n",
       "      <td>14.0</td>\n",
       "      <td>MOTOR VEHICLE STRUCK MOTOR VEHICLE, REAR END</td>\n",
       "      <td>NaN</td>\n",
       "      <td>0</td>\n",
       "      <td>Clear</td>\n",
       "      <td>Dry</td>\n",
       "      <td>Daylight</td>\n",
       "      <td>NaN</td>\n",
       "      <td>6231020.0</td>\n",
       "      <td>NaN</td>\n",
       "      <td>10</td>\n",
       "      <td>Entering at angle</td>\n",
       "      <td>0</td>\n",
       "      <td>0</td>\n",
       "      <td>N</td>\n",
       "    </tr>\n",
       "    <tr>\n",
       "      <th>4</th>\n",
       "      <td>-122.310830</td>\n",
       "      <td>47.663075</td>\n",
       "      <td>5</td>\n",
       "      <td>328034</td>\n",
       "      <td>329534</td>\n",
       "      <td>EA05682</td>\n",
       "      <td>Matched</td>\n",
       "      <td>Intersection</td>\n",
       "      <td>26067.0</td>\n",
       "      <td>16TH AVE NE AND NE 47TH ST</td>\n",
       "      <td></td>\n",
       "      <td>NaN</td>\n",
       "      <td>1</td>\n",
       "      <td>Property Damage Only Collision</td>\n",
       "      <td>Parked Car</td>\n",
       "      <td>3</td>\n",
       "      <td>0</td>\n",
       "      <td>0</td>\n",
       "      <td>2</td>\n",
       "      <td>0</td>\n",
       "      <td>0</td>\n",
       "      <td>0</td>\n",
       "      <td>2020/01/16 00:00:00+00</td>\n",
       "      <td>2020-01-16 18:37:00</td>\n",
       "      <td>At Intersection (intersection related)</td>\n",
       "      <td>11.0</td>\n",
       "      <td>MOTOR VEHICLE STRUCK MOTOR VEHICLE, FRONT END ...</td>\n",
       "      <td>NaN</td>\n",
       "      <td>N</td>\n",
       "      <td>Overcast</td>\n",
       "      <td>Dry</td>\n",
       "      <td>Dark - Street Lights On</td>\n",
       "      <td>NaN</td>\n",
       "      <td>NaN</td>\n",
       "      <td>NaN</td>\n",
       "      <td>20</td>\n",
       "      <td>One car leaving parked position</td>\n",
       "      <td>0</td>\n",
       "      <td>0</td>\n",
       "      <td>N</td>\n",
       "    </tr>\n",
       "  </tbody>\n",
       "</table>\n",
       "</div>"
      ],
      "text/plain": [
       "            X          Y  OBJECTID  INCKEY  COLDETKEY REPORTNO   STATUS  \\\n",
       "0 -122.301317  47.545344         1   24100      24100  1788069  Matched   \n",
       "1 -122.312515  47.548167         2  322338     323838  3815050  Matched   \n",
       "2 -122.348195  47.723218         3   32200      32200  1079610  Matched   \n",
       "3 -122.385577  47.552091         4   59600      59600  2613682  Matched   \n",
       "4 -122.310830  47.663075         5  328034     329534  EA05682  Matched   \n",
       "\n",
       "       ADDRTYPE   INTKEY                                          LOCATION  \\\n",
       "0         Block      NaN  S EDDY ST BETWEEN 24TH AVE S AND BEACON WR AVE S   \n",
       "1  Intersection  33383.0                       CORGIAT DR S AND S ALBRO PL   \n",
       "2  Intersection  35826.0                       LINDEN AVE N AND N 130TH ST   \n",
       "3  Intersection  32804.0                     42ND AVE SW AND SW FINDLAY ST   \n",
       "4  Intersection  26067.0                        16TH AVE NE AND NE 47TH ST   \n",
       "\n",
       "  EXCEPTRSNCODE EXCEPTRSNDESC SEVERITYCODE                    SEVERITYDESC  \\\n",
       "0           NaN           NaN            1  Property Damage Only Collision   \n",
       "1                         NaN            2                Injury Collision   \n",
       "2           NaN           NaN            1  Property Damage Only Collision   \n",
       "3           NaN           NaN            1  Property Damage Only Collision   \n",
       "4                         NaN            1  Property Damage Only Collision   \n",
       "\n",
       "  COLLISIONTYPE  PERSONCOUNT  PEDCOUNT  PEDCYLCOUNT  VEHCOUNT  INJURIES  \\\n",
       "0    Parked Car            3         0            0         3         0   \n",
       "1        Angles            2         0            0         2         1   \n",
       "2     Left Turn            2         0            0         2         0   \n",
       "3        Angles            6         0            0         2         0   \n",
       "4    Parked Car            3         0            0         2         0   \n",
       "\n",
       "   SERIOUSINJURIES  FATALITIES                 INCDATE             INCDTTM  \\\n",
       "0                0           0  2004/03/22 00:00:00+00 2004-03-22 06:43:00   \n",
       "1                0           0  2019/08/09 00:00:00+00 2019-08-09 18:58:00   \n",
       "2                0           0  2004/08/30 00:00:00+00 2004-08-30 13:33:00   \n",
       "3                0           0  2006/08/19 00:00:00+00 2006-08-19 12:09:00   \n",
       "4                0           0  2020/01/16 00:00:00+00 2020-01-16 18:37:00   \n",
       "\n",
       "                              JUNCTIONTYPE  SDOT_COLCODE  \\\n",
       "0  Mid-Block (not related to intersection)          14.0   \n",
       "1   At Intersection (intersection related)          11.0   \n",
       "2   At Intersection (intersection related)          11.0   \n",
       "3   At Intersection (intersection related)          14.0   \n",
       "4   At Intersection (intersection related)          11.0   \n",
       "\n",
       "                                        SDOT_COLDESC INATTENTIONIND UNDERINFL  \\\n",
       "0       MOTOR VEHICLE STRUCK MOTOR VEHICLE, REAR END              Y         0   \n",
       "1  MOTOR VEHICLE STRUCK MOTOR VEHICLE, FRONT END ...            NaN         N   \n",
       "2  MOTOR VEHICLE STRUCK MOTOR VEHICLE, FRONT END ...              Y         0   \n",
       "3       MOTOR VEHICLE STRUCK MOTOR VEHICLE, REAR END            NaN         0   \n",
       "4  MOTOR VEHICLE STRUCK MOTOR VEHICLE, FRONT END ...            NaN         N   \n",
       "\n",
       "    WEATHER ROADCOND                LIGHTCOND PEDROWNOTGRNT  SDOTCOLNUM  \\\n",
       "0     Clear      Dry                 Daylight           NaN   4082010.0   \n",
       "1     Clear      Dry                 Daylight           NaN         NaN   \n",
       "2     Clear      Dry                 Daylight           NaN   4243021.0   \n",
       "3     Clear      Dry                 Daylight           NaN   6231020.0   \n",
       "4  Overcast      Dry  Dark - Street Lights On           NaN         NaN   \n",
       "\n",
       "  SPEEDING ST_COLCODE                                         ST_COLDESC  \\\n",
       "0      NaN         32                             One parked--one moving   \n",
       "1      NaN         10                                  Entering at angle   \n",
       "2      NaN         28  From opposite direction - one left turn - one ...   \n",
       "3      NaN         10                                  Entering at angle   \n",
       "4      NaN         20                    One car leaving parked position   \n",
       "\n",
       "   SEGLANEKEY  CROSSWALKKEY HITPARKEDCAR  \n",
       "0           0             0            N  \n",
       "1           0             0            N  \n",
       "2           0             0            N  \n",
       "3           0             0            N  \n",
       "4           0             0            N  "
      ]
     },
     "metadata": {},
     "output_type": "display_data"
    }
   ],
   "source": [
    "url = \"https://data-seattlecitygis.opendata.arcgis.com/datasets/5b5c745e0f1f48e7a53acec63a0022ab_0.csv\"\n",
    "\n",
    "df = pd.read_csv(url, parse_dates=['INCDTTM'])\n",
    "display(df.head())"
   ]
  },
  {
   "cell_type": "code",
   "execution_count": null,
   "metadata": {},
   "outputs": [],
   "source": [
    "# if you want to save the data in a CSV file, then run this cell\n",
    "\n",
    "now = datetime.now()\n",
    "df.to_csv(\"collision_data_{}{}{}.csv\".format(now.month, now.day, now.year),\n",
    "          encoding=\"utf-8\", index=False)"
   ]
  },
  {
   "cell_type": "markdown",
   "metadata": {},
   "source": [
    "## 5. Take a look at the overview of the dataframe"
   ]
  },
  {
   "cell_type": "code",
   "execution_count": 3,
   "metadata": {},
   "outputs": [
    {
     "data": {
      "text/plain": [
       "(219429, 40)"
      ]
     },
     "execution_count": 3,
     "metadata": {},
     "output_type": "execute_result"
    }
   ],
   "source": [
    "df.shape"
   ]
  },
  {
   "cell_type": "code",
   "execution_count": 4,
   "metadata": {},
   "outputs": [
    {
     "data": {
      "text/plain": [
       "Index(['X', 'Y', 'OBJECTID', 'INCKEY', 'COLDETKEY', 'REPORTNO', 'STATUS',\n",
       "       'ADDRTYPE', 'INTKEY', 'LOCATION', 'EXCEPTRSNCODE', 'EXCEPTRSNDESC',\n",
       "       'SEVERITYCODE', 'SEVERITYDESC', 'COLLISIONTYPE', 'PERSONCOUNT',\n",
       "       'PEDCOUNT', 'PEDCYLCOUNT', 'VEHCOUNT', 'INJURIES', 'SERIOUSINJURIES',\n",
       "       'FATALITIES', 'INCDATE', 'INCDTTM', 'JUNCTIONTYPE', 'SDOT_COLCODE',\n",
       "       'SDOT_COLDESC', 'INATTENTIONIND', 'UNDERINFL', 'WEATHER', 'ROADCOND',\n",
       "       'LIGHTCOND', 'PEDROWNOTGRNT', 'SDOTCOLNUM', 'SPEEDING', 'ST_COLCODE',\n",
       "       'ST_COLDESC', 'SEGLANEKEY', 'CROSSWALKKEY', 'HITPARKEDCAR'],\n",
       "      dtype='object')"
      ]
     },
     "execution_count": 4,
     "metadata": {},
     "output_type": "execute_result"
    }
   ],
   "source": [
    "df.columns"
   ]
  },
  {
   "cell_type": "code",
   "execution_count": 5,
   "metadata": {},
   "outputs": [
    {
     "data": {
      "text/plain": [
       "X                         float64\n",
       "Y                         float64\n",
       "OBJECTID                    int64\n",
       "INCKEY                      int64\n",
       "COLDETKEY                   int64\n",
       "REPORTNO                   object\n",
       "STATUS                     object\n",
       "ADDRTYPE                   object\n",
       "INTKEY                    float64\n",
       "LOCATION                   object\n",
       "EXCEPTRSNCODE              object\n",
       "EXCEPTRSNDESC              object\n",
       "SEVERITYCODE               object\n",
       "SEVERITYDESC               object\n",
       "COLLISIONTYPE              object\n",
       "PERSONCOUNT                 int64\n",
       "PEDCOUNT                    int64\n",
       "PEDCYLCOUNT                 int64\n",
       "VEHCOUNT                    int64\n",
       "INJURIES                    int64\n",
       "SERIOUSINJURIES             int64\n",
       "FATALITIES                  int64\n",
       "INCDATE                    object\n",
       "INCDTTM            datetime64[ns]\n",
       "JUNCTIONTYPE               object\n",
       "SDOT_COLCODE              float64\n",
       "SDOT_COLDESC               object\n",
       "INATTENTIONIND             object\n",
       "UNDERINFL                  object\n",
       "WEATHER                    object\n",
       "ROADCOND                   object\n",
       "LIGHTCOND                  object\n",
       "PEDROWNOTGRNT              object\n",
       "SDOTCOLNUM                float64\n",
       "SPEEDING                   object\n",
       "ST_COLCODE                 object\n",
       "ST_COLDESC                 object\n",
       "SEGLANEKEY                  int64\n",
       "CROSSWALKKEY                int64\n",
       "HITPARKEDCAR               object\n",
       "dtype: object"
      ]
     },
     "execution_count": 5,
     "metadata": {},
     "output_type": "execute_result"
    }
   ],
   "source": [
    "df.dtypes"
   ]
  },
  {
   "cell_type": "markdown",
   "metadata": {},
   "source": [
    "## 6. Understand the dataframe in relation to the questions at hand"
   ]
  },
  {
   "cell_type": "markdown",
   "metadata": {},
   "source": [
    "## a. Questions/goals:\n",
    "\n",
    "- To identify locations that are prone to collisions\n",
    "- To identify predictors of accidents (e.g., physical characteristics of the location, road condition, DUI, weather)\n",
    "- To examine increase or decrease in number of accidents over time\n",
    "- To identify predictors of increase or decrease in the number of accidents\n",
    "- Recommend improvements on dangerous locations\n"
   ]
  },
  {
   "cell_type": "markdown",
   "metadata": {},
   "source": [
    "## b. Which columns are related to the outcome of the incident?"
   ]
  },
  {
   "cell_type": "markdown",
   "metadata": {},
   "source": [
    "PERSONCOUNT\n",
    "PEDCOUNT\n",
    "PEDCYLCOUNT\n",
    "VEHCOUNT\n",
    "INJURIES\n",
    "SERIOUSINJURIES\n",
    "FATALITIES"
   ]
  },
  {
   "cell_type": "markdown",
   "metadata": {},
   "source": [
    "## c. Which columns might serve as predictors of the outcome of the incident?"
   ]
  },
  {
   "cell_type": "markdown",
   "metadata": {},
   "source": [
    "- External (i.e., not dependent on the characteristics of the collision site) factors\n",
    "LIGHTCOND (8 categories)\n",
    "Dark\n",
    "Dawn\n",
    "Daylight\n",
    "Dusk\n",
    "Weather (10 categories)\n",
    "Code categories in a way that larger values indicate harsher conditions\n",
    "\n",
    "- People’s factors\n",
    "INATTENTIONIND (too many missing values)\n",
    "UNDERINFL (191,173 = 88% have data)\n",
    "PEDROWNOTGRNT(Whether pedestrian had the right of way or not; too many missing values)\n",
    "SPEEDING (too many missing values)\n",
    "\n",
    "- Characteristics of the site\n",
    "ADDRTYPE (3 categories)\n",
    "LOCATION (many categories)\n",
    "JUNCTIONTYPE (7 categories)\n",
    "ROADCOND (9 categories; linked to weather)\n",
    "SEGLANEKEY (A key for the lane segment in which the collision occurred) ← Not a categorical variable. No missing values.\n",
    "CROSSWALKKEY (A key for the crosswalk at which the collision occurred) ← Not a categorical variable. No missing values.\n"
   ]
  },
  {
   "cell_type": "markdown",
   "metadata": {},
   "source": [
    "## 7. Tidying up the data"
   ]
  },
  {
   "cell_type": "markdown",
   "metadata": {},
   "source": [
    "## a. Drop irrelevant/unnecessary columns"
   ]
  },
  {
   "cell_type": "markdown",
   "metadata": {},
   "source": [
    "## b. Drop duplicate rows"
   ]
  },
  {
   "cell_type": "code",
   "execution_count": 6,
   "metadata": {},
   "outputs": [
    {
     "data": {
      "text/plain": [
       "217911"
      ]
     },
     "execution_count": 6,
     "metadata": {},
     "output_type": "execute_result"
    }
   ],
   "source": [
    "df['INCKEY'].nunique()\n",
    "#Need to decide how to identify duplicates, besides checking INCKEY"
   ]
  },
  {
   "cell_type": "markdown",
   "metadata": {},
   "source": [
    "## 8. Understand individual columns"
   ]
  },
  {
   "cell_type": "markdown",
   "metadata": {},
   "source": [
    "## 8.1 Numeric columns"
   ]
  },
  {
   "cell_type": "markdown",
   "metadata": {},
   "source": [
    "## a. Handling missing values or null values"
   ]
  },
  {
   "cell_type": "code",
   "execution_count": 7,
   "metadata": {},
   "outputs": [
    {
     "data": {
      "text/plain": [
       "X                    7410\n",
       "Y                    7410\n",
       "OBJECTID                0\n",
       "INCKEY                  0\n",
       "COLDETKEY               0\n",
       "REPORTNO                0\n",
       "STATUS                  0\n",
       "ADDRTYPE             3676\n",
       "INTKEY             147290\n",
       "LOCATION             4532\n",
       "EXCEPTRSNCODE      120403\n",
       "EXCEPTRSNDESC      206017\n",
       "SEVERITYCODE            1\n",
       "SEVERITYDESC            0\n",
       "COLLISIONTYPE       26758\n",
       "PERSONCOUNT             0\n",
       "PEDCOUNT                0\n",
       "PEDCYLCOUNT             0\n",
       "VEHCOUNT                0\n",
       "INJURIES                0\n",
       "SERIOUSINJURIES         0\n",
       "FATALITIES              0\n",
       "INCDATE                 0\n",
       "INCDTTM                 0\n",
       "JUNCTIONTYPE        12037\n",
       "SDOT_COLCODE            1\n",
       "SDOT_COLDESC            1\n",
       "INATTENTIONIND     187870\n",
       "UNDERINFL           26738\n",
       "WEATHER             26934\n",
       "ROADCOND            26863\n",
       "LIGHTCOND           27029\n",
       "PEDROWNOTGRNT      212826\n",
       "SDOTCOLNUM          90706\n",
       "SPEEDING           208234\n",
       "ST_COLCODE           9413\n",
       "ST_COLDESC          26758\n",
       "SEGLANEKEY              0\n",
       "CROSSWALKKEY            0\n",
       "HITPARKEDCAR            0\n",
       "dtype: int64"
      ]
     },
     "execution_count": 7,
     "metadata": {},
     "output_type": "execute_result"
    }
   ],
   "source": [
    "df.isnull().sum(axis = 0)"
   ]
  },
  {
   "cell_type": "markdown",
   "metadata": {},
   "source": [
    "## b. Handling outliers (box plots) & c. Looking at distributions (histograms)"
   ]
  },
  {
   "cell_type": "code",
   "execution_count": 8,
   "metadata": {},
   "outputs": [
    {
     "data": {
      "text/html": [
       "<div>\n",
       "<style scoped>\n",
       "    .dataframe tbody tr th:only-of-type {\n",
       "        vertical-align: middle;\n",
       "    }\n",
       "\n",
       "    .dataframe tbody tr th {\n",
       "        vertical-align: top;\n",
       "    }\n",
       "\n",
       "    .dataframe thead th {\n",
       "        text-align: right;\n",
       "    }\n",
       "</style>\n",
       "<table border=\"1\" class=\"dataframe\">\n",
       "  <thead>\n",
       "    <tr style=\"text-align: right;\">\n",
       "      <th></th>\n",
       "      <th>SDOT_COLDESC</th>\n",
       "      <th>OBJECTID</th>\n",
       "    </tr>\n",
       "  </thead>\n",
       "  <tbody>\n",
       "    <tr>\n",
       "      <th>14</th>\n",
       "      <td>MOTOR VEHICLE STRUCK MOTOR VEHICLE, FRONT END ...</td>\n",
       "      <td>90298</td>\n",
       "    </tr>\n",
       "    <tr>\n",
       "      <th>17</th>\n",
       "      <td>MOTOR VEHICLE STRUCK MOTOR VEHICLE, REAR END</td>\n",
       "      <td>58257</td>\n",
       "    </tr>\n",
       "    <tr>\n",
       "      <th>26</th>\n",
       "      <td>NOT ENOUGH INFORMATION / NOT APPLICABLE</td>\n",
       "      <td>19209</td>\n",
       "    </tr>\n",
       "    <tr>\n",
       "      <th>16</th>\n",
       "      <td>MOTOR VEHICLE STRUCK MOTOR VEHICLE, LEFT SIDE ...</td>\n",
       "      <td>10739</td>\n",
       "    </tr>\n",
       "    <tr>\n",
       "      <th>12</th>\n",
       "      <td>MOTOR VEHICLE RAN OFF ROAD - HIT FIXED OBJECT</td>\n",
       "      <td>9412</td>\n",
       "    </tr>\n",
       "    <tr>\n",
       "      <th>10</th>\n",
       "      <td>MOTOR VEHCILE STRUCK PEDESTRIAN</td>\n",
       "      <td>7591</td>\n",
       "    </tr>\n",
       "    <tr>\n",
       "      <th>15</th>\n",
       "      <td>MOTOR VEHICLE STRUCK MOTOR VEHICLE, LEFT SIDE ...</td>\n",
       "      <td>6844</td>\n",
       "    </tr>\n",
       "    <tr>\n",
       "      <th>20</th>\n",
       "      <td>MOTOR VEHICLE STRUCK OBJECT IN ROAD</td>\n",
       "      <td>4944</td>\n",
       "    </tr>\n",
       "    <tr>\n",
       "      <th>21</th>\n",
       "      <td>MOTOR VEHICLE STRUCK PEDALCYCLIST, FRONT END A...</td>\n",
       "      <td>3368</td>\n",
       "    </tr>\n",
       "    <tr>\n",
       "      <th>18</th>\n",
       "      <td>MOTOR VEHICLE STRUCK MOTOR VEHICLE, RIGHT SIDE...</td>\n",
       "      <td>1773</td>\n",
       "    </tr>\n",
       "    <tr>\n",
       "      <th>19</th>\n",
       "      <td>MOTOR VEHICLE STRUCK MOTOR VEHICLE, RIGHT SIDE...</td>\n",
       "      <td>1768</td>\n",
       "    </tr>\n",
       "    <tr>\n",
       "      <th>29</th>\n",
       "      <td>PEDALCYCLIST STRUCK MOTOR VEHICLE FRONT END AT...</td>\n",
       "      <td>1450</td>\n",
       "    </tr>\n",
       "    <tr>\n",
       "      <th>11</th>\n",
       "      <td>MOTOR VEHICLE OVERTURNED IN ROAD</td>\n",
       "      <td>558</td>\n",
       "    </tr>\n",
       "    <tr>\n",
       "      <th>23</th>\n",
       "      <td>MOTOR VEHICLE STRUCK PEDALCYCLIST, REAR END</td>\n",
       "      <td>203</td>\n",
       "    </tr>\n",
       "    <tr>\n",
       "      <th>31</th>\n",
       "      <td>PEDALCYCLIST STRUCK MOTOR VEHICLE LEFT SIDE SI...</td>\n",
       "      <td>199</td>\n",
       "    </tr>\n",
       "    <tr>\n",
       "      <th>13</th>\n",
       "      <td>MOTOR VEHICLE RAN OFF ROAD - NO COLLISION</td>\n",
       "      <td>169</td>\n",
       "    </tr>\n",
       "    <tr>\n",
       "      <th>32</th>\n",
       "      <td>PEDALCYCLIST STRUCK MOTOR VEHICLE REAR END</td>\n",
       "      <td>151</td>\n",
       "    </tr>\n",
       "    <tr>\n",
       "      <th>22</th>\n",
       "      <td>MOTOR VEHICLE STRUCK PEDALCYCLIST, LEFT SIDE S...</td>\n",
       "      <td>129</td>\n",
       "    </tr>\n",
       "    <tr>\n",
       "      <th>0</th>\n",
       "      <td>DRIVERLESS VEHICLE RAN OFF ROAD - HIT FIXED OB...</td>\n",
       "      <td>117</td>\n",
       "    </tr>\n",
       "    <tr>\n",
       "      <th>2</th>\n",
       "      <td>DRIVERLESS VEHICLE STRUCK MOTOR VEHICLE FRONT ...</td>\n",
       "      <td>111</td>\n",
       "    </tr>\n",
       "    <tr>\n",
       "      <th>25</th>\n",
       "      <td>MOTOR VEHICLE STRUCK TRAIN</td>\n",
       "      <td>104</td>\n",
       "    </tr>\n",
       "    <tr>\n",
       "      <th>5</th>\n",
       "      <td>DRIVERLESS VEHICLE STRUCK MOTOR VEHICLE REAR END</td>\n",
       "      <td>100</td>\n",
       "    </tr>\n",
       "    <tr>\n",
       "      <th>38</th>\n",
       "      <td>PEDALCYCLIST STRUCK PEDESTRIAN</td>\n",
       "      <td>97</td>\n",
       "    </tr>\n",
       "    <tr>\n",
       "      <th>27</th>\n",
       "      <td>PEDALCYCLIST OVERTURNED IN ROAD</td>\n",
       "      <td>86</td>\n",
       "    </tr>\n",
       "    <tr>\n",
       "      <th>3</th>\n",
       "      <td>DRIVERLESS VEHICLE STRUCK MOTOR VEHICLE LEFT S...</td>\n",
       "      <td>56</td>\n",
       "    </tr>\n",
       "    <tr>\n",
       "      <th>34</th>\n",
       "      <td>PEDALCYCLIST STRUCK MOTOR VEHICLE RIGHT SIDE S...</td>\n",
       "      <td>53</td>\n",
       "    </tr>\n",
       "    <tr>\n",
       "      <th>35</th>\n",
       "      <td>PEDALCYCLIST STRUCK OBJECT IN ROAD</td>\n",
       "      <td>30</td>\n",
       "    </tr>\n",
       "    <tr>\n",
       "      <th>24</th>\n",
       "      <td>MOTOR VEHICLE STRUCK PEDALCYCLIST, RIGHT SIDE ...</td>\n",
       "      <td>19</td>\n",
       "    </tr>\n",
       "    <tr>\n",
       "      <th>9</th>\n",
       "      <td>DRIVERLESS VEHICLE STRUCK PEDESTRIAN</td>\n",
       "      <td>16</td>\n",
       "    </tr>\n",
       "    <tr>\n",
       "      <th>6</th>\n",
       "      <td>DRIVERLESS VEHICLE STRUCK MOTOR VEHICLE RIGHT ...</td>\n",
       "      <td>13</td>\n",
       "    </tr>\n",
       "    <tr>\n",
       "      <th>30</th>\n",
       "      <td>PEDALCYCLIST STRUCK MOTOR VEHICLE LEFT SIDE AT...</td>\n",
       "      <td>9</td>\n",
       "    </tr>\n",
       "    <tr>\n",
       "      <th>37</th>\n",
       "      <td>PEDALCYCLIST STRUCK PEDALCYCLIST REAR END</td>\n",
       "      <td>7</td>\n",
       "    </tr>\n",
       "    <tr>\n",
       "      <th>7</th>\n",
       "      <td>DRIVERLESS VEHICLE STRUCK MOTOR VEHICLE RIGHT ...</td>\n",
       "      <td>6</td>\n",
       "    </tr>\n",
       "    <tr>\n",
       "      <th>28</th>\n",
       "      <td>PEDALCYCLIST RAN OFF ROAD - HIT FIXED OBJECT</td>\n",
       "      <td>6</td>\n",
       "    </tr>\n",
       "    <tr>\n",
       "      <th>36</th>\n",
       "      <td>PEDALCYCLIST STRUCK PEDALCYCLIST FRONT END AT ...</td>\n",
       "      <td>6</td>\n",
       "    </tr>\n",
       "    <tr>\n",
       "      <th>4</th>\n",
       "      <td>DRIVERLESS VEHICLE STRUCK MOTOR VEHICLE LEFT S...</td>\n",
       "      <td>4</td>\n",
       "    </tr>\n",
       "    <tr>\n",
       "      <th>8</th>\n",
       "      <td>DRIVERLESS VEHICLE STRUCK OBJECT IN ROADWAY</td>\n",
       "      <td>4</td>\n",
       "    </tr>\n",
       "    <tr>\n",
       "      <th>33</th>\n",
       "      <td>PEDALCYCLIST STRUCK MOTOR VEHICLE RIGHT SIDE A...</td>\n",
       "      <td>2</td>\n",
       "    </tr>\n",
       "    <tr>\n",
       "      <th>1</th>\n",
       "      <td>DRIVERLESS VEHICLE RAN OFF ROAD - NO COLLISION</td>\n",
       "      <td>2</td>\n",
       "    </tr>\n",
       "  </tbody>\n",
       "</table>\n",
       "</div>"
      ],
      "text/plain": [
       "                                         SDOT_COLDESC  OBJECTID\n",
       "14  MOTOR VEHICLE STRUCK MOTOR VEHICLE, FRONT END ...     90298\n",
       "17       MOTOR VEHICLE STRUCK MOTOR VEHICLE, REAR END     58257\n",
       "26            NOT ENOUGH INFORMATION / NOT APPLICABLE     19209\n",
       "16  MOTOR VEHICLE STRUCK MOTOR VEHICLE, LEFT SIDE ...     10739\n",
       "12      MOTOR VEHICLE RAN OFF ROAD - HIT FIXED OBJECT      9412\n",
       "10                    MOTOR VEHCILE STRUCK PEDESTRIAN      7591\n",
       "15  MOTOR VEHICLE STRUCK MOTOR VEHICLE, LEFT SIDE ...      6844\n",
       "20                MOTOR VEHICLE STRUCK OBJECT IN ROAD      4944\n",
       "21  MOTOR VEHICLE STRUCK PEDALCYCLIST, FRONT END A...      3368\n",
       "18  MOTOR VEHICLE STRUCK MOTOR VEHICLE, RIGHT SIDE...      1773\n",
       "19  MOTOR VEHICLE STRUCK MOTOR VEHICLE, RIGHT SIDE...      1768\n",
       "29  PEDALCYCLIST STRUCK MOTOR VEHICLE FRONT END AT...      1450\n",
       "11                   MOTOR VEHICLE OVERTURNED IN ROAD       558\n",
       "23        MOTOR VEHICLE STRUCK PEDALCYCLIST, REAR END       203\n",
       "31  PEDALCYCLIST STRUCK MOTOR VEHICLE LEFT SIDE SI...       199\n",
       "13          MOTOR VEHICLE RAN OFF ROAD - NO COLLISION       169\n",
       "32         PEDALCYCLIST STRUCK MOTOR VEHICLE REAR END       151\n",
       "22  MOTOR VEHICLE STRUCK PEDALCYCLIST, LEFT SIDE S...       129\n",
       "0   DRIVERLESS VEHICLE RAN OFF ROAD - HIT FIXED OB...       117\n",
       "2   DRIVERLESS VEHICLE STRUCK MOTOR VEHICLE FRONT ...       111\n",
       "25                         MOTOR VEHICLE STRUCK TRAIN       104\n",
       "5    DRIVERLESS VEHICLE STRUCK MOTOR VEHICLE REAR END       100\n",
       "38                     PEDALCYCLIST STRUCK PEDESTRIAN        97\n",
       "27                    PEDALCYCLIST OVERTURNED IN ROAD        86\n",
       "3   DRIVERLESS VEHICLE STRUCK MOTOR VEHICLE LEFT S...        56\n",
       "34  PEDALCYCLIST STRUCK MOTOR VEHICLE RIGHT SIDE S...        53\n",
       "35                 PEDALCYCLIST STRUCK OBJECT IN ROAD        30\n",
       "24  MOTOR VEHICLE STRUCK PEDALCYCLIST, RIGHT SIDE ...        19\n",
       "9                DRIVERLESS VEHICLE STRUCK PEDESTRIAN        16\n",
       "6   DRIVERLESS VEHICLE STRUCK MOTOR VEHICLE RIGHT ...        13\n",
       "30  PEDALCYCLIST STRUCK MOTOR VEHICLE LEFT SIDE AT...         9\n",
       "37          PEDALCYCLIST STRUCK PEDALCYCLIST REAR END         7\n",
       "7   DRIVERLESS VEHICLE STRUCK MOTOR VEHICLE RIGHT ...         6\n",
       "28       PEDALCYCLIST RAN OFF ROAD - HIT FIXED OBJECT         6\n",
       "36  PEDALCYCLIST STRUCK PEDALCYCLIST FRONT END AT ...         6\n",
       "4   DRIVERLESS VEHICLE STRUCK MOTOR VEHICLE LEFT S...         4\n",
       "8         DRIVERLESS VEHICLE STRUCK OBJECT IN ROADWAY         4\n",
       "33  PEDALCYCLIST STRUCK MOTOR VEHICLE RIGHT SIDE A...         2\n",
       "1      DRIVERLESS VEHICLE RAN OFF ROAD - NO COLLISION         2"
      ]
     },
     "execution_count": 8,
     "metadata": {},
     "output_type": "execute_result"
    }
   ],
   "source": [
    "sdot_coldesc = df.groupby('SDOT_COLDESC').size().to_frame('OBJECTID').reset_index()\n",
    "sdot_coldesc.sort_values('OBJECTID', ascending=False, inplace=True)\n",
    "sdot_coldesc"
   ]
  },
  {
   "cell_type": "code",
   "execution_count": 9,
   "metadata": {},
   "outputs": [
    {
     "data": {
      "text/html": [
       "<div>\n",
       "<style scoped>\n",
       "    .dataframe tbody tr th:only-of-type {\n",
       "        vertical-align: middle;\n",
       "    }\n",
       "\n",
       "    .dataframe tbody tr th {\n",
       "        vertical-align: top;\n",
       "    }\n",
       "\n",
       "    .dataframe thead th {\n",
       "        text-align: right;\n",
       "    }\n",
       "</style>\n",
       "<table border=\"1\" class=\"dataframe\">\n",
       "  <thead>\n",
       "    <tr style=\"text-align: right;\">\n",
       "      <th></th>\n",
       "      <th>PERSONCOUNT</th>\n",
       "      <th>PEDCOUNT</th>\n",
       "      <th>PEDCYLCOUNT</th>\n",
       "      <th>VEHCOUNT</th>\n",
       "      <th>INJURIES</th>\n",
       "      <th>SERIOUSINJURIES</th>\n",
       "      <th>FATALITIES</th>\n",
       "    </tr>\n",
       "  </thead>\n",
       "  <tbody>\n",
       "    <tr>\n",
       "      <th>count</th>\n",
       "      <td>217911.000000</td>\n",
       "      <td>217911.000000</td>\n",
       "      <td>217911.000000</td>\n",
       "      <td>217911.000000</td>\n",
       "      <td>217911.000000</td>\n",
       "      <td>217911.000000</td>\n",
       "      <td>217911.000000</td>\n",
       "    </tr>\n",
       "    <tr>\n",
       "      <th>mean</th>\n",
       "      <td>2.226129</td>\n",
       "      <td>0.037713</td>\n",
       "      <td>0.027204</td>\n",
       "      <td>1.722896</td>\n",
       "      <td>0.373607</td>\n",
       "      <td>0.015034</td>\n",
       "      <td>0.001666</td>\n",
       "    </tr>\n",
       "    <tr>\n",
       "      <th>std</th>\n",
       "      <td>1.473632</td>\n",
       "      <td>0.200821</td>\n",
       "      <td>0.164082</td>\n",
       "      <td>0.835058</td>\n",
       "      <td>0.732599</td>\n",
       "      <td>0.157780</td>\n",
       "      <td>0.044339</td>\n",
       "    </tr>\n",
       "    <tr>\n",
       "      <th>min</th>\n",
       "      <td>0.000000</td>\n",
       "      <td>0.000000</td>\n",
       "      <td>0.000000</td>\n",
       "      <td>0.000000</td>\n",
       "      <td>0.000000</td>\n",
       "      <td>0.000000</td>\n",
       "      <td>0.000000</td>\n",
       "    </tr>\n",
       "    <tr>\n",
       "      <th>25%</th>\n",
       "      <td>2.000000</td>\n",
       "      <td>0.000000</td>\n",
       "      <td>0.000000</td>\n",
       "      <td>2.000000</td>\n",
       "      <td>0.000000</td>\n",
       "      <td>0.000000</td>\n",
       "      <td>0.000000</td>\n",
       "    </tr>\n",
       "    <tr>\n",
       "      <th>50%</th>\n",
       "      <td>2.000000</td>\n",
       "      <td>0.000000</td>\n",
       "      <td>0.000000</td>\n",
       "      <td>2.000000</td>\n",
       "      <td>0.000000</td>\n",
       "      <td>0.000000</td>\n",
       "      <td>0.000000</td>\n",
       "    </tr>\n",
       "    <tr>\n",
       "      <th>75%</th>\n",
       "      <td>3.000000</td>\n",
       "      <td>0.000000</td>\n",
       "      <td>0.000000</td>\n",
       "      <td>2.000000</td>\n",
       "      <td>1.000000</td>\n",
       "      <td>0.000000</td>\n",
       "      <td>0.000000</td>\n",
       "    </tr>\n",
       "    <tr>\n",
       "      <th>max</th>\n",
       "      <td>93.000000</td>\n",
       "      <td>6.000000</td>\n",
       "      <td>2.000000</td>\n",
       "      <td>15.000000</td>\n",
       "      <td>78.000000</td>\n",
       "      <td>41.000000</td>\n",
       "      <td>5.000000</td>\n",
       "    </tr>\n",
       "  </tbody>\n",
       "</table>\n",
       "</div>"
      ],
      "text/plain": [
       "         PERSONCOUNT       PEDCOUNT    PEDCYLCOUNT       VEHCOUNT  \\\n",
       "count  217911.000000  217911.000000  217911.000000  217911.000000   \n",
       "mean        2.226129       0.037713       0.027204       1.722896   \n",
       "std         1.473632       0.200821       0.164082       0.835058   \n",
       "min         0.000000       0.000000       0.000000       0.000000   \n",
       "25%         2.000000       0.000000       0.000000       2.000000   \n",
       "50%         2.000000       0.000000       0.000000       2.000000   \n",
       "75%         3.000000       0.000000       0.000000       2.000000   \n",
       "max        93.000000       6.000000       2.000000      15.000000   \n",
       "\n",
       "            INJURIES  SERIOUSINJURIES     FATALITIES  \n",
       "count  217911.000000    217911.000000  217911.000000  \n",
       "mean        0.373607         0.015034       0.001666  \n",
       "std         0.732599         0.157780       0.044339  \n",
       "min         0.000000         0.000000       0.000000  \n",
       "25%         0.000000         0.000000       0.000000  \n",
       "50%         0.000000         0.000000       0.000000  \n",
       "75%         1.000000         0.000000       0.000000  \n",
       "max        78.000000        41.000000       5.000000  "
      ]
     },
     "execution_count": 9,
     "metadata": {},
     "output_type": "execute_result"
    }
   ],
   "source": [
    "outcome_info = [\n",
    "  'PERSONCOUNT',\n",
    "  'PEDCOUNT',\n",
    "  'PEDCYLCOUNT',\n",
    "  'VEHCOUNT',\n",
    "  'INJURIES',\n",
    "  'SERIOUSINJURIES',\n",
    "  'FATALITIES'\n",
    "]\n",
    "outcome = df[df.columns.intersection(outcome_info)]\n",
    "outcome.describe()"
   ]
  },
  {
   "cell_type": "code",
   "execution_count": 10,
   "metadata": {},
   "outputs": [
    {
     "data": {
      "text/plain": [
       "<matplotlib.axes._subplots.AxesSubplot at 0x12c07ab50>"
      ]
     },
     "execution_count": 10,
     "metadata": {},
     "output_type": "execute_result"
    },
    {
     "data": {
      "image/png": "[encoded data removed]",
      "text/plain": [
       "<Figure size 432x288 with 1 Axes>"
      ]
     },
     "metadata": {
      "needs_background": "light"
     },
     "output_type": "display_data"
    }
   ],
   "source": [
    "perdf = df[df.PERSONCOUNT < 10]\n",
    "pergdf = perdf.groupby(perdf.PERSONCOUNT).size().to_frame('count')\n",
    "pergdf.plot.bar()"
   ]
  },
  {
   "cell_type": "code",
   "execution_count": 11,
   "metadata": {},
   "outputs": [
    {
     "data": {
      "text/plain": [
       "{'whiskers': [<matplotlib.lines.Line2D at 0x12cff6950>,\n",
       "  <matplotlib.lines.Line2D at 0x12d279ed0>],\n",
       " 'caps': [<matplotlib.lines.Line2D at 0x12d269450>,\n",
       "  <matplotlib.lines.Line2D at 0x12d269990>],\n",
       " 'boxes': [<matplotlib.lines.Line2D at 0x12d279490>],\n",
       " 'medians': [<matplotlib.lines.Line2D at 0x12d269f10>],\n",
       " 'fliers': [<matplotlib.lines.Line2D at 0x12d26c490>],\n",
       " 'means': []}"
      ]
     },
     "execution_count": 11,
     "metadata": {},
     "output_type": "execute_result"
    },
    {
     "data": {
      "image/png": "[encoded data removed]",
      "text/plain": [
       "<Figure size 432x288 with 1 Axes>"
      ]
     },
     "metadata": {
      "needs_background": "light"
     },
     "output_type": "display_data"
    }
   ],
   "source": [
    "plt.boxplot(perdf.PERSONCOUNT)"
   ]
  },
  {
   "cell_type": "code",
   "execution_count": 12,
   "metadata": {},
   "outputs": [
    {
     "data": {
      "text/plain": [
       "<matplotlib.axes._subplots.AxesSubplot at 0x12d25ca90>"
      ]
     },
     "execution_count": 12,
     "metadata": {},
     "output_type": "execute_result"
    },
    {
     "data": {
      "image/png": "[encoded data removed]",
      "text/plain": [
       "<Figure size 432x288 with 1 Axes>"
      ]
     },
     "metadata": {
      "needs_background": "light"
     },
     "output_type": "display_data"
    }
   ],
   "source": [
    "pedgdf = df.groupby(df.PEDCOUNT).size().to_frame('count')\n",
    "pedgdf.plot.bar()"
   ]
  },
  {
   "cell_type": "code",
   "execution_count": 13,
   "metadata": {},
   "outputs": [
    {
     "data": {
      "text/plain": [
       "{'whiskers': [<matplotlib.lines.Line2D at 0x1318824d0>,\n",
       "  <matplotlib.lines.Line2D at 0x131881110>],\n",
       " 'caps': [<matplotlib.lines.Line2D at 0x1318810d0>,\n",
       "  <matplotlib.lines.Line2D at 0x131881550>],\n",
       " 'boxes': [<matplotlib.lines.Line2D at 0x131894d50>],\n",
       " 'medians': [<matplotlib.lines.Line2D at 0x12da43050>],\n",
       " 'fliers': [<matplotlib.lines.Line2D at 0x12da43510>],\n",
       " 'means': []}"
      ]
     },
     "execution_count": 13,
     "metadata": {},
     "output_type": "execute_result"
    },
    {
     "data": {
      "image/png": "[encoded data removed]",
      "text/plain": [
       "<Figure size 432x288 with 1 Axes>"
      ]
     },
     "metadata": {
      "needs_background": "light"
     },
     "output_type": "display_data"
    }
   ],
   "source": [
    "plt.boxplot(df.PEDCOUNT)"
   ]
  },
  {
   "cell_type": "code",
   "execution_count": 14,
   "metadata": {
    "scrolled": true
   },
   "outputs": [
    {
     "data": {
      "text/plain": [
       "<matplotlib.axes._subplots.AxesSubplot at 0x12da32990>"
      ]
     },
     "execution_count": 14,
     "metadata": {},
     "output_type": "execute_result"
    },
    {
     "data": {
      "image/png": "[encoded data removed]",
      "text/plain": [
       "<Figure size 432x288 with 1 Axes>"
      ]
     },
     "metadata": {
      "needs_background": "light"
     },
     "output_type": "display_data"
    }
   ],
   "source": [
    "pedclgdf = df.groupby(df.PEDCYLCOUNT).size().to_frame('count')\n",
    "pedclgdf.plot.bar()"
   ]
  },
  {
   "cell_type": "code",
   "execution_count": 15,
   "metadata": {},
   "outputs": [
    {
     "data": {
      "text/plain": [
       "{'whiskers': [<matplotlib.lines.Line2D at 0x13199bb10>,\n",
       "  <matplotlib.lines.Line2D at 0x1309fae10>],\n",
       " 'caps': [<matplotlib.lines.Line2D at 0x1309f4250>,\n",
       "  <matplotlib.lines.Line2D at 0x1309f4290>],\n",
       " 'boxes': [<matplotlib.lines.Line2D at 0x1309faa90>],\n",
       " 'medians': [<matplotlib.lines.Line2D at 0x1309f47d0>],\n",
       " 'fliers': [<matplotlib.lines.Line2D at 0x1309e9250>],\n",
       " 'means': []}"
      ]
     },
     "execution_count": 15,
     "metadata": {},
     "output_type": "execute_result"
    },
    {
     "data": {
      "image/png": "[encoded data removed]",
      "text/plain": [
       "<Figure size 432x288 with 1 Axes>"
      ]
     },
     "metadata": {
      "needs_background": "light"
     },
     "output_type": "display_data"
    }
   ],
   "source": [
    "plt.boxplot(df.PEDCYLCOUNT)"
   ]
  },
  {
   "cell_type": "code",
   "execution_count": 16,
   "metadata": {},
   "outputs": [
    {
     "data": {
      "text/plain": [
       "<matplotlib.axes._subplots.AxesSubplot at 0x1319b4c10>"
      ]
     },
     "execution_count": 16,
     "metadata": {},
     "output_type": "execute_result"
    },
    {
     "data": {
      "image/png": "[encoded data removed]",
      "text/plain": [
       "<Figure size 432x288 with 1 Axes>"
      ]
     },
     "metadata": {
      "needs_background": "light"
     },
     "output_type": "display_data"
    }
   ],
   "source": [
    "vehgdf = df.groupby(df.VEHCOUNT).size().to_frame('count')\n",
    "vehgdf.plot.bar()"
   ]
  },
  {
   "cell_type": "code",
   "execution_count": 17,
   "metadata": {},
   "outputs": [
    {
     "data": {
      "text/plain": [
       "{'whiskers': [<matplotlib.lines.Line2D at 0x12e1e1d90>,\n",
       "  <matplotlib.lines.Line2D at 0x12ca381d0>],\n",
       " 'caps': [<matplotlib.lines.Line2D at 0x12ca38190>,\n",
       "  <matplotlib.lines.Line2D at 0x12ca38610>],\n",
       " 'boxes': [<matplotlib.lines.Line2D at 0x12ca33e10>],\n",
       " 'medians': [<matplotlib.lines.Line2D at 0x12ca23090>],\n",
       " 'fliers': [<matplotlib.lines.Line2D at 0x12ca230d0>],\n",
       " 'means': []}"
      ]
     },
     "execution_count": 17,
     "metadata": {},
     "output_type": "execute_result"
    },
    {
     "data": {
      "image/png": "[encoded data removed]",
      "text/plain": [
       "<Figure size 432x288 with 1 Axes>"
      ]
     },
     "metadata": {
      "needs_background": "light"
     },
     "output_type": "display_data"
    }
   ],
   "source": [
    "plt.boxplot(df.VEHCOUNT)"
   ]
  },
  {
   "cell_type": "code",
   "execution_count": 18,
   "metadata": {},
   "outputs": [
    {
     "data": {
      "text/plain": [
       "<matplotlib.axes._subplots.AxesSubplot at 0x12c2809d0>"
      ]
     },
     "execution_count": 18,
     "metadata": {},
     "output_type": "execute_result"
    },
    {
     "data": {
      "image/png": "[encoded data removed]",
      "text/plain": [
       "<Figure size 432x288 with 1 Axes>"
      ]
     },
     "metadata": {
      "needs_background": "light"
     },
     "output_type": "display_data"
    }
   ],
   "source": [
    "gdf = df.groupby(df.INJURIES).size().to_frame('count')\n",
    "gdf.plot.bar()"
   ]
  },
  {
   "cell_type": "code",
   "execution_count": 19,
   "metadata": {},
   "outputs": [
    {
     "data": {
      "text/plain": [
       "{'whiskers': [<matplotlib.lines.Line2D at 0x1294d7ad0>,\n",
       "  <matplotlib.lines.Line2D at 0x12979d810>],\n",
       " 'caps': [<matplotlib.lines.Line2D at 0x12979d7d0>,\n",
       "  <matplotlib.lines.Line2D at 0x1297a31d0>],\n",
       " 'boxes': [<matplotlib.lines.Line2D at 0x12979d490>],\n",
       " 'medians': [<matplotlib.lines.Line2D at 0x1297a3210>],\n",
       " 'fliers': [<matplotlib.lines.Line2D at 0x1297a3750>],\n",
       " 'means': []}"
      ]
     },
     "execution_count": 19,
     "metadata": {},
     "output_type": "execute_result"
    },
    {
     "data": {
      "image/png": "[encoded data removed]",
      "text/plain": [
       "<Figure size 432x288 with 1 Axes>"
      ]
     },
     "metadata": {
      "needs_background": "light"
     },
     "output_type": "display_data"
    }
   ],
   "source": [
    "injdf = df[df.INJURIES < 70]\n",
    "plt.boxplot(injdf.INJURIES)"
   ]
  },
  {
   "cell_type": "code",
   "execution_count": 20,
   "metadata": {},
   "outputs": [
    {
     "data": {
      "text/plain": [
       "<matplotlib.axes._subplots.AxesSubplot at 0x12985a3d0>"
      ]
     },
     "execution_count": 20,
     "metadata": {},
     "output_type": "execute_result"
    },
    {
     "data": {
      "image/png": "[encoded data removed]",
      "text/plain": [
       "<Figure size 432x288 with 1 Axes>"
      ]
     },
     "metadata": {
      "needs_background": "light"
     },
     "output_type": "display_data"
    }
   ],
   "source": [
    "sidf = df.groupby(df.SERIOUSINJURIES).size().to_frame('count')\n",
    "sidf.plot.bar()"
   ]
  },
  {
   "cell_type": "code",
   "execution_count": 21,
   "metadata": {},
   "outputs": [
    {
     "data": {
      "text/plain": [
       "{'whiskers': [<matplotlib.lines.Line2D at 0x12e9cdd50>,\n",
       "  <matplotlib.lines.Line2D at 0x1294c2b90>],\n",
       " 'caps': [<matplotlib.lines.Line2D at 0x12984aa50>,\n",
       "  <matplotlib.lines.Line2D at 0x129793a50>],\n",
       " 'boxes': [<matplotlib.lines.Line2D at 0x1294c2fd0>],\n",
       " 'medians': [<matplotlib.lines.Line2D at 0x1319c9310>],\n",
       " 'fliers': [<matplotlib.lines.Line2D at 0x1297be510>],\n",
       " 'means': []}"
      ]
     },
     "execution_count": 21,
     "metadata": {},
     "output_type": "execute_result"
    },
    {
     "data": {
      "image/png": "[encoded data removed]",
      "text/plain": [
       "<Figure size 432x288 with 1 Axes>"
      ]
     },
     "metadata": {
      "needs_background": "light"
     },
     "output_type": "display_data"
    }
   ],
   "source": [
    "sinjdf = df[df.SERIOUSINJURIES < 40]\n",
    "plt.boxplot(sinjdf.SERIOUSINJURIES)"
   ]
  },
  {
   "cell_type": "code",
   "execution_count": 22,
   "metadata": {},
   "outputs": [
    {
     "data": {
      "text/plain": [
       "<matplotlib.axes._subplots.AxesSubplot at 0x12a0ec550>"
      ]
     },
     "execution_count": 22,
     "metadata": {},
     "output_type": "execute_result"
    },
    {
     "data": {
      "image/png": "[encoded data removed]",
      "text/plain": [
       "<Figure size 432x288 with 1 Axes>"
      ]
     },
     "metadata": {
      "needs_background": "light"
     },
     "output_type": "display_data"
    }
   ],
   "source": [
    "fdf = df.groupby(df.FATALITIES).size().to_frame('count')\n",
    "fdf.plot.bar()"
   ]
  },
  {
   "cell_type": "code",
   "execution_count": 23,
   "metadata": {},
   "outputs": [
    {
     "data": {
      "text/plain": [
       "{'whiskers': [<matplotlib.lines.Line2D at 0x12a1e8710>,\n",
       "  <matplotlib.lines.Line2D at 0x12a287ed0>],\n",
       " 'caps': [<matplotlib.lines.Line2D at 0x12a28f310>,\n",
       "  <matplotlib.lines.Line2D at 0x12a28f350>],\n",
       " 'boxes': [<matplotlib.lines.Line2D at 0x12a287b50>],\n",
       " 'medians': [<matplotlib.lines.Line2D at 0x12a28f890>],\n",
       " 'fliers': [<matplotlib.lines.Line2D at 0x12a297310>],\n",
       " 'means': []}"
      ]
     },
     "execution_count": 23,
     "metadata": {},
     "output_type": "execute_result"
    },
    {
     "data": {
      "image/png": "[encoded data removed]",
      "text/plain": [
       "<Figure size 432x288 with 1 Axes>"
      ]
     },
     "metadata": {
      "needs_background": "light"
     },
     "output_type": "display_data"
    }
   ],
   "source": [
    "plt.boxplot(df.FATALITIES)"
   ]
  },
  {
   "cell_type": "markdown",
   "metadata": {},
   "source": [
    "## d. General trend in the overall number of accidents (line graph)"
   ]
  },
  {
   "cell_type": "code",
   "execution_count": 24,
   "metadata": {},
   "outputs": [],
   "source": [
    "df['year'] = pd.DatetimeIndex(df.INCDTTM).year"
   ]
  },
  {
   "cell_type": "code",
   "execution_count": 25,
   "metadata": {},
   "outputs": [
    {
     "data": {
      "text/html": [
       "<div>\n",
       "<style scoped>\n",
       "    .dataframe tbody tr th:only-of-type {\n",
       "        vertical-align: middle;\n",
       "    }\n",
       "\n",
       "    .dataframe tbody tr th {\n",
       "        vertical-align: top;\n",
       "    }\n",
       "\n",
       "    .dataframe thead th {\n",
       "        text-align: right;\n",
       "    }\n",
       "</style>\n",
       "<table border=\"1\" class=\"dataframe\">\n",
       "  <thead>\n",
       "    <tr style=\"text-align: right;\">\n",
       "      <th></th>\n",
       "      <th>year</th>\n",
       "      <th>INCKEY</th>\n",
       "    </tr>\n",
       "  </thead>\n",
       "  <tbody>\n",
       "    <tr>\n",
       "      <th>1</th>\n",
       "      <td>2004</td>\n",
       "      <td>15457</td>\n",
       "    </tr>\n",
       "    <tr>\n",
       "      <th>2</th>\n",
       "      <td>2005</td>\n",
       "      <td>16016</td>\n",
       "    </tr>\n",
       "    <tr>\n",
       "      <th>3</th>\n",
       "      <td>2006</td>\n",
       "      <td>15794</td>\n",
       "    </tr>\n",
       "    <tr>\n",
       "      <th>4</th>\n",
       "      <td>2007</td>\n",
       "      <td>15082</td>\n",
       "    </tr>\n",
       "    <tr>\n",
       "      <th>5</th>\n",
       "      <td>2008</td>\n",
       "      <td>14139</td>\n",
       "    </tr>\n",
       "    <tr>\n",
       "      <th>6</th>\n",
       "      <td>2009</td>\n",
       "      <td>13275</td>\n",
       "    </tr>\n",
       "    <tr>\n",
       "      <th>7</th>\n",
       "      <td>2010</td>\n",
       "      <td>11958</td>\n",
       "    </tr>\n",
       "    <tr>\n",
       "      <th>8</th>\n",
       "      <td>2011</td>\n",
       "      <td>12416</td>\n",
       "    </tr>\n",
       "    <tr>\n",
       "      <th>9</th>\n",
       "      <td>2012</td>\n",
       "      <td>12732</td>\n",
       "    </tr>\n",
       "    <tr>\n",
       "      <th>10</th>\n",
       "      <td>2013</td>\n",
       "      <td>12757</td>\n",
       "    </tr>\n",
       "    <tr>\n",
       "      <th>11</th>\n",
       "      <td>2014</td>\n",
       "      <td>13212</td>\n",
       "    </tr>\n",
       "    <tr>\n",
       "      <th>12</th>\n",
       "      <td>2015</td>\n",
       "      <td>14260</td>\n",
       "    </tr>\n",
       "    <tr>\n",
       "      <th>13</th>\n",
       "      <td>2016</td>\n",
       "      <td>13901</td>\n",
       "    </tr>\n",
       "    <tr>\n",
       "      <th>14</th>\n",
       "      <td>2017</td>\n",
       "      <td>12477</td>\n",
       "    </tr>\n",
       "    <tr>\n",
       "      <th>15</th>\n",
       "      <td>2018</td>\n",
       "      <td>12197</td>\n",
       "    </tr>\n",
       "    <tr>\n",
       "      <th>16</th>\n",
       "      <td>2019</td>\n",
       "      <td>11020</td>\n",
       "    </tr>\n",
       "    <tr>\n",
       "      <th>17</th>\n",
       "      <td>2020</td>\n",
       "      <td>1217</td>\n",
       "    </tr>\n",
       "  </tbody>\n",
       "</table>\n",
       "</div>"
      ],
      "text/plain": [
       "    year  INCKEY\n",
       "1   2004   15457\n",
       "2   2005   16016\n",
       "3   2006   15794\n",
       "4   2007   15082\n",
       "5   2008   14139\n",
       "6   2009   13275\n",
       "7   2010   11958\n",
       "8   2011   12416\n",
       "9   2012   12732\n",
       "10  2013   12757\n",
       "11  2014   13212\n",
       "12  2015   14260\n",
       "13  2016   13901\n",
       "14  2017   12477\n",
       "15  2018   12197\n",
       "16  2019   11020\n",
       "17  2020    1217"
      ]
     },
     "execution_count": 25,
     "metadata": {},
     "output_type": "execute_result"
    }
   ],
   "source": [
    "yeardf = df.groupby('year').year.size().to_frame('INCKEY').reset_index()\n",
    "yeardf = yeardf[yeardf.INCKEY > 1]\n",
    "#I dropped year 2003 which only had 1 incident in the dataset\n",
    "yeardf.head(20)"
   ]
  },
  {
   "cell_type": "code",
   "execution_count": 26,
   "metadata": {},
   "outputs": [
    {
     "data": {
      "text/plain": [
       "<matplotlib.axes._subplots.AxesSubplot at 0x12a2be550>"
      ]
     },
     "execution_count": 26,
     "metadata": {},
     "output_type": "execute_result"
    },
    {
     "data": {
      "image/png": "[encoded data removed]",
      "text/plain": [
       "<Figure size 720x576 with 1 Axes>"
      ]
     },
     "metadata": {
      "needs_background": "light"
     },
     "output_type": "display_data"
    }
   ],
   "source": [
    "yeardf = yeardf[(yeardf['year'] < 2020)]\n",
    "fig = plt.figure(figsize=(10, 8))\n",
    "sns.lineplot(x=\"year\", y=\"INCKEY\", data=yeardf)\n"
   ]
  },
  {
   "cell_type": "markdown",
   "metadata": {},
   "source": [
    "## e. Trend for the top 5 locations with highest number of accidents (line graphs)"
   ]
  },
  {
   "cell_type": "markdown",
   "metadata": {},
   "source": [
    "# Which locations have had high numbers of incidents?"
   ]
  },
  {
   "cell_type": "code",
   "execution_count": 27,
   "metadata": {},
   "outputs": [],
   "source": [
    "locdf = df.groupby('LOCATION').size().to_frame('INCKEY').reset_index()\n",
    "locdf.sort_values('INCKEY', ascending=False, inplace=True)\n",
    "locdf = locdf.head(7)"
   ]
  },
  {
   "cell_type": "code",
   "execution_count": 28,
   "metadata": {},
   "outputs": [
    {
     "data": {
      "text/html": [
       "<div>\n",
       "<style scoped>\n",
       "    .dataframe tbody tr th:only-of-type {\n",
       "        vertical-align: middle;\n",
       "    }\n",
       "\n",
       "    .dataframe tbody tr th {\n",
       "        vertical-align: top;\n",
       "    }\n",
       "\n",
       "    .dataframe thead th {\n",
       "        text-align: right;\n",
       "    }\n",
       "</style>\n",
       "<table border=\"1\" class=\"dataframe\">\n",
       "  <thead>\n",
       "    <tr style=\"text-align: right;\">\n",
       "      <th></th>\n",
       "      <th>LOCATION</th>\n",
       "      <th>INCKEY</th>\n",
       "    </tr>\n",
       "  </thead>\n",
       "  <tbody>\n",
       "    <tr>\n",
       "      <th>11241</th>\n",
       "      <td>BATTERY ST TUNNEL NB BETWEEN ALASKAN WY VI NB ...</td>\n",
       "      <td>298</td>\n",
       "    </tr>\n",
       "    <tr>\n",
       "      <th>17512</th>\n",
       "      <td>N NORTHGATE WAY BETWEEN MERIDIAN AVE N AND COR...</td>\n",
       "      <td>294</td>\n",
       "    </tr>\n",
       "    <tr>\n",
       "      <th>11242</th>\n",
       "      <td>BATTERY ST TUNNEL SB BETWEEN AURORA AVE N AND ...</td>\n",
       "      <td>291</td>\n",
       "    </tr>\n",
       "    <tr>\n",
       "      <th>11075</th>\n",
       "      <td>AURORA AVE N BETWEEN N 117TH PL AND N 125TH ST</td>\n",
       "      <td>278</td>\n",
       "    </tr>\n",
       "    <tr>\n",
       "      <th>9543</th>\n",
       "      <td>6TH AVE AND JAMES ST</td>\n",
       "      <td>270</td>\n",
       "    </tr>\n",
       "    <tr>\n",
       "      <th>11079</th>\n",
       "      <td>AURORA AVE N BETWEEN N 130TH ST AND N 135TH ST</td>\n",
       "      <td>264</td>\n",
       "    </tr>\n",
       "    <tr>\n",
       "      <th>10774</th>\n",
       "      <td>ALASKAN WY VI NB BETWEEN S ROYAL BROUGHAM WAY ...</td>\n",
       "      <td>256</td>\n",
       "    </tr>\n",
       "  </tbody>\n",
       "</table>\n",
       "</div>"
      ],
      "text/plain": [
       "                                                LOCATION  INCKEY\n",
       "11241  BATTERY ST TUNNEL NB BETWEEN ALASKAN WY VI NB ...     298\n",
       "17512  N NORTHGATE WAY BETWEEN MERIDIAN AVE N AND COR...     294\n",
       "11242  BATTERY ST TUNNEL SB BETWEEN AURORA AVE N AND ...     291\n",
       "11075     AURORA AVE N BETWEEN N 117TH PL AND N 125TH ST     278\n",
       "9543                                6TH AVE AND JAMES ST     270\n",
       "11079     AURORA AVE N BETWEEN N 130TH ST AND N 135TH ST     264\n",
       "10774  ALASKAN WY VI NB BETWEEN S ROYAL BROUGHAM WAY ...     256"
      ]
     },
     "execution_count": 28,
     "metadata": {},
     "output_type": "execute_result"
    }
   ],
   "source": [
    "locdf"
   ]
  },
  {
   "cell_type": "markdown",
   "metadata": {},
   "source": [
    "# How has the number of incidents changed over time for each location (7 locations with highest numbers of collisions)"
   ]
  },
  {
   "cell_type": "code",
   "execution_count": 29,
   "metadata": {
    "scrolled": true
   },
   "outputs": [
    {
     "data": {
      "text/plain": [
       "['BATTERY ST TUNNEL NB BETWEEN ALASKAN WY VI NB AND AURORA AVE N',\n",
       " 'N NORTHGATE WAY BETWEEN MERIDIAN AVE N AND CORLISS AVE N',\n",
       " 'BATTERY ST TUNNEL SB BETWEEN AURORA AVE N AND ALASKAN WY VI SB',\n",
       " 'AURORA AVE N BETWEEN N 117TH PL AND N 125TH ST',\n",
       " '6TH AVE AND JAMES ST',\n",
       " 'AURORA AVE N BETWEEN N 130TH ST AND N 135TH ST',\n",
       " 'ALASKAN WY VI NB BETWEEN S ROYAL BROUGHAM WAY ON RP AND SENECA ST OFF RP']"
      ]
     },
     "execution_count": 29,
     "metadata": {},
     "output_type": "execute_result"
    }
   ],
   "source": [
    "locations = list(locdf.LOCATION)\n",
    "locations"
   ]
  },
  {
   "cell_type": "code",
   "execution_count": 30,
   "metadata": {},
   "outputs": [
    {
     "data": {
      "text/html": [
       "<div>\n",
       "<style scoped>\n",
       "    .dataframe tbody tr th:only-of-type {\n",
       "        vertical-align: middle;\n",
       "    }\n",
       "\n",
       "    .dataframe tbody tr th {\n",
       "        vertical-align: top;\n",
       "    }\n",
       "\n",
       "    .dataframe thead th {\n",
       "        text-align: right;\n",
       "    }\n",
       "</style>\n",
       "<table border=\"1\" class=\"dataframe\">\n",
       "  <thead>\n",
       "    <tr style=\"text-align: right;\">\n",
       "      <th></th>\n",
       "      <th>X</th>\n",
       "      <th>Y</th>\n",
       "      <th>OBJECTID</th>\n",
       "      <th>INCKEY</th>\n",
       "      <th>COLDETKEY</th>\n",
       "      <th>REPORTNO</th>\n",
       "      <th>STATUS</th>\n",
       "      <th>ADDRTYPE</th>\n",
       "      <th>INTKEY</th>\n",
       "      <th>LOCATION</th>\n",
       "      <th>EXCEPTRSNCODE</th>\n",
       "      <th>EXCEPTRSNDESC</th>\n",
       "      <th>SEVERITYCODE</th>\n",
       "      <th>SEVERITYDESC</th>\n",
       "      <th>COLLISIONTYPE</th>\n",
       "      <th>PERSONCOUNT</th>\n",
       "      <th>PEDCOUNT</th>\n",
       "      <th>PEDCYLCOUNT</th>\n",
       "      <th>VEHCOUNT</th>\n",
       "      <th>INJURIES</th>\n",
       "      <th>SERIOUSINJURIES</th>\n",
       "      <th>FATALITIES</th>\n",
       "      <th>INCDATE</th>\n",
       "      <th>INCDTTM</th>\n",
       "      <th>JUNCTIONTYPE</th>\n",
       "      <th>SDOT_COLCODE</th>\n",
       "      <th>SDOT_COLDESC</th>\n",
       "      <th>INATTENTIONIND</th>\n",
       "      <th>UNDERINFL</th>\n",
       "      <th>WEATHER</th>\n",
       "      <th>ROADCOND</th>\n",
       "      <th>LIGHTCOND</th>\n",
       "      <th>PEDROWNOTGRNT</th>\n",
       "      <th>SDOTCOLNUM</th>\n",
       "      <th>SPEEDING</th>\n",
       "      <th>ST_COLCODE</th>\n",
       "      <th>ST_COLDESC</th>\n",
       "      <th>SEGLANEKEY</th>\n",
       "      <th>CROSSWALKKEY</th>\n",
       "      <th>HITPARKEDCAR</th>\n",
       "      <th>year</th>\n",
       "    </tr>\n",
       "  </thead>\n",
       "  <tbody>\n",
       "    <tr>\n",
       "      <th>153</th>\n",
       "      <td>-122.344896</td>\n",
       "      <td>47.717173</td>\n",
       "      <td>2154</td>\n",
       "      <td>328194</td>\n",
       "      <td>329694</td>\n",
       "      <td>3854704</td>\n",
       "      <td>Unmatched</td>\n",
       "      <td>Block</td>\n",
       "      <td>NaN</td>\n",
       "      <td>AURORA AVE N BETWEEN N 117TH PL AND N 125TH ST</td>\n",
       "      <td></td>\n",
       "      <td>NaN</td>\n",
       "      <td>1</td>\n",
       "      <td>Property Damage Only Collision</td>\n",
       "      <td>NaN</td>\n",
       "      <td>3</td>\n",
       "      <td>0</td>\n",
       "      <td>0</td>\n",
       "      <td>0</td>\n",
       "      <td>0</td>\n",
       "      <td>0</td>\n",
       "      <td>0</td>\n",
       "      <td>2020-01-22T00:00:00.000Z</td>\n",
       "      <td>2020-01-22 00:00:00</td>\n",
       "      <td>Driveway Junction</td>\n",
       "      <td>11.0</td>\n",
       "      <td>MOTOR VEHICLE STRUCK MOTOR VEHICLE, FRONT END ...</td>\n",
       "      <td>NaN</td>\n",
       "      <td>NaN</td>\n",
       "      <td>NaN</td>\n",
       "      <td>NaN</td>\n",
       "      <td>NaN</td>\n",
       "      <td>NaN</td>\n",
       "      <td>NaN</td>\n",
       "      <td>NaN</td>\n",
       "      <td></td>\n",
       "      <td>NaN</td>\n",
       "      <td>0</td>\n",
       "      <td>0</td>\n",
       "      <td>N</td>\n",
       "      <td>2020</td>\n",
       "    </tr>\n",
       "    <tr>\n",
       "      <th>210</th>\n",
       "      <td>-122.328079</td>\n",
       "      <td>47.604161</td>\n",
       "      <td>2211</td>\n",
       "      <td>328042</td>\n",
       "      <td>329542</td>\n",
       "      <td>E985095</td>\n",
       "      <td>Matched</td>\n",
       "      <td>Intersection</td>\n",
       "      <td>29973.0</td>\n",
       "      <td>6TH AVE AND JAMES ST</td>\n",
       "      <td></td>\n",
       "      <td>NaN</td>\n",
       "      <td>1</td>\n",
       "      <td>Property Damage Only Collision</td>\n",
       "      <td>Left Turn</td>\n",
       "      <td>2</td>\n",
       "      <td>0</td>\n",
       "      <td>0</td>\n",
       "      <td>2</td>\n",
       "      <td>0</td>\n",
       "      <td>0</td>\n",
       "      <td>0</td>\n",
       "      <td>2019-10-05T00:00:00.000Z</td>\n",
       "      <td>2019-10-05 14:38:00</td>\n",
       "      <td>At Intersection (intersection related)</td>\n",
       "      <td>11.0</td>\n",
       "      <td>MOTOR VEHICLE STRUCK MOTOR VEHICLE, FRONT END ...</td>\n",
       "      <td>NaN</td>\n",
       "      <td>N</td>\n",
       "      <td>Clear or Partly Cloudy</td>\n",
       "      <td>Dry</td>\n",
       "      <td>Daylight</td>\n",
       "      <td>NaN</td>\n",
       "      <td>NaN</td>\n",
       "      <td>NaN</td>\n",
       "      <td>28</td>\n",
       "      <td>From opposite direction - one left turn - one ...</td>\n",
       "      <td>0</td>\n",
       "      <td>0</td>\n",
       "      <td>N</td>\n",
       "      <td>2019</td>\n",
       "    </tr>\n",
       "    <tr>\n",
       "      <th>281</th>\n",
       "      <td>-122.344896</td>\n",
       "      <td>47.717173</td>\n",
       "      <td>2282</td>\n",
       "      <td>329079</td>\n",
       "      <td>330579</td>\n",
       "      <td>3836287</td>\n",
       "      <td>Unmatched</td>\n",
       "      <td>Block</td>\n",
       "      <td>NaN</td>\n",
       "      <td>AURORA AVE N BETWEEN N 117TH PL AND N 125TH ST</td>\n",
       "      <td></td>\n",
       "      <td>NaN</td>\n",
       "      <td>2b</td>\n",
       "      <td>Serious Injury Collision</td>\n",
       "      <td>NaN</td>\n",
       "      <td>3</td>\n",
       "      <td>0</td>\n",
       "      <td>0</td>\n",
       "      <td>0</td>\n",
       "      <td>1</td>\n",
       "      <td>0</td>\n",
       "      <td>0</td>\n",
       "      <td>2020-02-19T00:00:00.000Z</td>\n",
       "      <td>2020-02-19 00:00:00</td>\n",
       "      <td>Mid-Block (not related to intersection)</td>\n",
       "      <td>24.0</td>\n",
       "      <td>MOTOR VEHCILE STRUCK PEDESTRIAN</td>\n",
       "      <td>NaN</td>\n",
       "      <td>NaN</td>\n",
       "      <td>NaN</td>\n",
       "      <td>NaN</td>\n",
       "      <td>NaN</td>\n",
       "      <td>NaN</td>\n",
       "      <td>NaN</td>\n",
       "      <td>NaN</td>\n",
       "      <td></td>\n",
       "      <td>NaN</td>\n",
       "      <td>0</td>\n",
       "      <td>0</td>\n",
       "      <td>N</td>\n",
       "      <td>2020</td>\n",
       "    </tr>\n",
       "    <tr>\n",
       "      <th>333</th>\n",
       "      <td>-122.328079</td>\n",
       "      <td>47.604161</td>\n",
       "      <td>2334</td>\n",
       "      <td>327880</td>\n",
       "      <td>329380</td>\n",
       "      <td>3851909</td>\n",
       "      <td>Unmatched</td>\n",
       "      <td>Intersection</td>\n",
       "      <td>29973.0</td>\n",
       "      <td>6TH AVE AND JAMES ST</td>\n",
       "      <td></td>\n",
       "      <td>NaN</td>\n",
       "      <td>2</td>\n",
       "      <td>Injury Collision</td>\n",
       "      <td>NaN</td>\n",
       "      <td>3</td>\n",
       "      <td>0</td>\n",
       "      <td>0</td>\n",
       "      <td>0</td>\n",
       "      <td>2</td>\n",
       "      <td>0</td>\n",
       "      <td>0</td>\n",
       "      <td>2020-01-16T00:00:00.000Z</td>\n",
       "      <td>2020-01-16 00:00:00</td>\n",
       "      <td>At Intersection (intersection related)</td>\n",
       "      <td>11.0</td>\n",
       "      <td>MOTOR VEHICLE STRUCK MOTOR VEHICLE, FRONT END ...</td>\n",
       "      <td>NaN</td>\n",
       "      <td>NaN</td>\n",
       "      <td>NaN</td>\n",
       "      <td>NaN</td>\n",
       "      <td>NaN</td>\n",
       "      <td>NaN</td>\n",
       "      <td>NaN</td>\n",
       "      <td>NaN</td>\n",
       "      <td></td>\n",
       "      <td>NaN</td>\n",
       "      <td>0</td>\n",
       "      <td>0</td>\n",
       "      <td>N</td>\n",
       "      <td>2020</td>\n",
       "    </tr>\n",
       "    <tr>\n",
       "      <th>572</th>\n",
       "      <td>-122.328079</td>\n",
       "      <td>47.604161</td>\n",
       "      <td>2573</td>\n",
       "      <td>27100</td>\n",
       "      <td>27100</td>\n",
       "      <td>04291046</td>\n",
       "      <td>Unmatched</td>\n",
       "      <td>Intersection</td>\n",
       "      <td>29973.0</td>\n",
       "      <td>6TH AVE AND JAMES ST</td>\n",
       "      <td>NaN</td>\n",
       "      <td>NaN</td>\n",
       "      <td>0</td>\n",
       "      <td>Unknown</td>\n",
       "      <td>NaN</td>\n",
       "      <td>0</td>\n",
       "      <td>0</td>\n",
       "      <td>0</td>\n",
       "      <td>0</td>\n",
       "      <td>0</td>\n",
       "      <td>0</td>\n",
       "      <td>0</td>\n",
       "      <td>2004-10-17T00:00:00.000Z</td>\n",
       "      <td>2004-10-17 00:00:00</td>\n",
       "      <td>At Intersection (intersection related)</td>\n",
       "      <td>11.0</td>\n",
       "      <td>MOTOR VEHICLE STRUCK MOTOR VEHICLE, FRONT END ...</td>\n",
       "      <td>NaN</td>\n",
       "      <td>NaN</td>\n",
       "      <td>NaN</td>\n",
       "      <td>NaN</td>\n",
       "      <td>NaN</td>\n",
       "      <td>NaN</td>\n",
       "      <td>4291046.0</td>\n",
       "      <td>NaN</td>\n",
       "      <td>NaN</td>\n",
       "      <td>NaN</td>\n",
       "      <td>0</td>\n",
       "      <td>0</td>\n",
       "      <td>N</td>\n",
       "      <td>2004</td>\n",
       "    </tr>\n",
       "  </tbody>\n",
       "</table>\n",
       "</div>"
      ],
      "text/plain": [
       "              X          Y  OBJECTID  INCKEY  COLDETKEY  REPORTNO     STATUS  \\\n",
       "153 -122.344896  47.717173      2154  328194     329694   3854704  Unmatched   \n",
       "210 -122.328079  47.604161      2211  328042     329542   E985095    Matched   \n",
       "281 -122.344896  47.717173      2282  329079     330579   3836287  Unmatched   \n",
       "333 -122.328079  47.604161      2334  327880     329380   3851909  Unmatched   \n",
       "572 -122.328079  47.604161      2573   27100      27100  04291046  Unmatched   \n",
       "\n",
       "         ADDRTYPE   INTKEY                                        LOCATION  \\\n",
       "153         Block      NaN  AURORA AVE N BETWEEN N 117TH PL AND N 125TH ST   \n",
       "210  Intersection  29973.0                            6TH AVE AND JAMES ST   \n",
       "281         Block      NaN  AURORA AVE N BETWEEN N 117TH PL AND N 125TH ST   \n",
       "333  Intersection  29973.0                            6TH AVE AND JAMES ST   \n",
       "572  Intersection  29973.0                            6TH AVE AND JAMES ST   \n",
       "\n",
       "    EXCEPTRSNCODE EXCEPTRSNDESC SEVERITYCODE                    SEVERITYDESC  \\\n",
       "153                         NaN            1  Property Damage Only Collision   \n",
       "210                         NaN            1  Property Damage Only Collision   \n",
       "281                         NaN           2b        Serious Injury Collision   \n",
       "333                         NaN            2                Injury Collision   \n",
       "572           NaN           NaN            0                         Unknown   \n",
       "\n",
       "    COLLISIONTYPE  PERSONCOUNT  PEDCOUNT  PEDCYLCOUNT  VEHCOUNT  INJURIES  \\\n",
       "153           NaN            3         0            0         0         0   \n",
       "210     Left Turn            2         0            0         2         0   \n",
       "281           NaN            3         0            0         0         1   \n",
       "333           NaN            3         0            0         0         2   \n",
       "572           NaN            0         0            0         0         0   \n",
       "\n",
       "     SERIOUSINJURIES  FATALITIES                   INCDATE  \\\n",
       "153                0           0  2020-01-22T00:00:00.000Z   \n",
       "210                0           0  2019-10-05T00:00:00.000Z   \n",
       "281                0           0  2020-02-19T00:00:00.000Z   \n",
       "333                0           0  2020-01-16T00:00:00.000Z   \n",
       "572                0           0  2004-10-17T00:00:00.000Z   \n",
       "\n",
       "                INCDTTM                             JUNCTIONTYPE  \\\n",
       "153 2020-01-22 00:00:00                        Driveway Junction   \n",
       "210 2019-10-05 14:38:00   At Intersection (intersection related)   \n",
       "281 2020-02-19 00:00:00  Mid-Block (not related to intersection)   \n",
       "333 2020-01-16 00:00:00   At Intersection (intersection related)   \n",
       "572 2004-10-17 00:00:00   At Intersection (intersection related)   \n",
       "\n",
       "     SDOT_COLCODE                                       SDOT_COLDESC  \\\n",
       "153          11.0  MOTOR VEHICLE STRUCK MOTOR VEHICLE, FRONT END ...   \n",
       "210          11.0  MOTOR VEHICLE STRUCK MOTOR VEHICLE, FRONT END ...   \n",
       "281          24.0                    MOTOR VEHCILE STRUCK PEDESTRIAN   \n",
       "333          11.0  MOTOR VEHICLE STRUCK MOTOR VEHICLE, FRONT END ...   \n",
       "572          11.0  MOTOR VEHICLE STRUCK MOTOR VEHICLE, FRONT END ...   \n",
       "\n",
       "    INATTENTIONIND UNDERINFL                 WEATHER ROADCOND LIGHTCOND  \\\n",
       "153            NaN       NaN                     NaN      NaN       NaN   \n",
       "210            NaN         N  Clear or Partly Cloudy      Dry  Daylight   \n",
       "281            NaN       NaN                     NaN      NaN       NaN   \n",
       "333            NaN       NaN                     NaN      NaN       NaN   \n",
       "572            NaN       NaN                     NaN      NaN       NaN   \n",
       "\n",
       "    PEDROWNOTGRNT  SDOTCOLNUM SPEEDING ST_COLCODE  \\\n",
       "153           NaN         NaN      NaN              \n",
       "210           NaN         NaN      NaN         28   \n",
       "281           NaN         NaN      NaN              \n",
       "333           NaN         NaN      NaN              \n",
       "572           NaN   4291046.0      NaN        NaN   \n",
       "\n",
       "                                            ST_COLDESC  SEGLANEKEY  \\\n",
       "153                                                NaN           0   \n",
       "210  From opposite direction - one left turn - one ...           0   \n",
       "281                                                NaN           0   \n",
       "333                                                NaN           0   \n",
       "572                                                NaN           0   \n",
       "\n",
       "     CROSSWALKKEY HITPARKEDCAR  year  \n",
       "153             0            N  2020  \n",
       "210             0            N  2019  \n",
       "281             0            N  2020  \n",
       "333             0            N  2020  \n",
       "572             0            N  2004  "
      ]
     },
     "execution_count": 30,
     "metadata": {},
     "output_type": "execute_result"
    }
   ],
   "source": [
    "locyrdf = df[df.LOCATION.isin(locations)]\n",
    "locyrdf.head()\n",
    "#odf = odf[odf.Neighborhood.isin(neighborhoods)]"
   ]
  },
  {
   "cell_type": "code",
   "execution_count": 31,
   "metadata": {},
   "outputs": [
    {
     "data": {
      "text/plain": [
       "<matplotlib.axes._subplots.AxesSubplot at 0x12aee0590>"
      ]
     },
     "execution_count": 31,
     "metadata": {},
     "output_type": "execute_result"
    },
    {
     "data": {
      "image/png": "[encoded data removed]",
      "text/plain": [
       "<Figure size 432x288 with 1 Axes>"
      ]
     },
     "metadata": {
      "needs_background": "light"
     },
     "output_type": "display_data"
    }
   ],
   "source": [
    "total_location_year_data = locyrdf.groupby(['LOCATION', 'year'])['INCKEY'].sum().reset_index()\n",
    "total_location_year_data = total_location_year_data[(total_location_year_data['year'] < 2020)]\n",
    "sns.lineplot(x=\"year\", y=\"INCKEY\", hue=\"LOCATION\", data=total_location_year_data)\n"
   ]
  },
  {
   "cell_type": "markdown",
   "metadata": {},
   "source": [
    "# Which locations have the highest numbers of fatal and serious injuries?"
   ]
  },
  {
   "cell_type": "code",
   "execution_count": 32,
   "metadata": {},
   "outputs": [],
   "source": [
    "# Re-labeling serverity\n",
    "df['SEVERITYCODE'] = df['SEVERITYCODE'].map({'0': 'Unknown', '1': 'Prop_damage', '2': 'Injury', '2b': 'Serious_injury', '3': 'Fatality'})"
   ]
  },
  {
   "cell_type": "code",
   "execution_count": 33,
   "metadata": {},
   "outputs": [
    {
     "data": {
      "text/html": [
       "<div>\n",
       "<style scoped>\n",
       "    .dataframe tbody tr th:only-of-type {\n",
       "        vertical-align: middle;\n",
       "    }\n",
       "\n",
       "    .dataframe tbody tr th {\n",
       "        vertical-align: top;\n",
       "    }\n",
       "\n",
       "    .dataframe thead th {\n",
       "        text-align: right;\n",
       "    }\n",
       "</style>\n",
       "<table border=\"1\" class=\"dataframe\">\n",
       "  <thead>\n",
       "    <tr style=\"text-align: right;\">\n",
       "      <th></th>\n",
       "      <th>count</th>\n",
       "    </tr>\n",
       "    <tr>\n",
       "      <th>SEVERITYCODE</th>\n",
       "      <th></th>\n",
       "    </tr>\n",
       "  </thead>\n",
       "  <tbody>\n",
       "    <tr>\n",
       "      <th>Fatality</th>\n",
       "      <td>341</td>\n",
       "    </tr>\n",
       "    <tr>\n",
       "      <th>Injury</th>\n",
       "      <td>57756</td>\n",
       "    </tr>\n",
       "    <tr>\n",
       "      <th>Prop_damage</th>\n",
       "      <td>135545</td>\n",
       "    </tr>\n",
       "    <tr>\n",
       "      <th>Serious_injury</th>\n",
       "      <td>3029</td>\n",
       "    </tr>\n",
       "    <tr>\n",
       "      <th>Unknown</th>\n",
       "      <td>21239</td>\n",
       "    </tr>\n",
       "  </tbody>\n",
       "</table>\n",
       "</div>"
      ],
      "text/plain": [
       "                 count\n",
       "SEVERITYCODE          \n",
       "Fatality           341\n",
       "Injury           57756\n",
       "Prop_damage     135545\n",
       "Serious_injury    3029\n",
       "Unknown          21239"
      ]
     },
     "execution_count": 33,
     "metadata": {},
     "output_type": "execute_result"
    }
   ],
   "source": [
    "df.groupby(['SEVERITYCODE']).size().to_frame('count')"
   ]
  },
  {
   "cell_type": "code",
   "execution_count": 34,
   "metadata": {},
   "outputs": [
    {
     "data": {
      "text/html": [
       "<div>\n",
       "<style scoped>\n",
       "    .dataframe tbody tr th:only-of-type {\n",
       "        vertical-align: middle;\n",
       "    }\n",
       "\n",
       "    .dataframe tbody tr th {\n",
       "        vertical-align: top;\n",
       "    }\n",
       "\n",
       "    .dataframe thead th {\n",
       "        text-align: right;\n",
       "    }\n",
       "</style>\n",
       "<table border=\"1\" class=\"dataframe\">\n",
       "  <thead>\n",
       "    <tr style=\"text-align: right;\">\n",
       "      <th></th>\n",
       "      <th>LOCATION</th>\n",
       "      <th>INCKEY</th>\n",
       "    </tr>\n",
       "  </thead>\n",
       "  <tbody>\n",
       "    <tr>\n",
       "      <th>5631</th>\n",
       "      <td>AURORA AVE N BETWEEN N 117TH PL AND N 125TH ST</td>\n",
       "      <td>124</td>\n",
       "    </tr>\n",
       "    <tr>\n",
       "      <th>4697</th>\n",
       "      <td>6TH AVE AND JAMES ST</td>\n",
       "      <td>111</td>\n",
       "    </tr>\n",
       "    <tr>\n",
       "      <th>9263</th>\n",
       "      <td>N NORTHGATE WAY BETWEEN MERIDIAN AVE N AND COR...</td>\n",
       "      <td>96</td>\n",
       "    </tr>\n",
       "    <tr>\n",
       "      <th>10378</th>\n",
       "      <td>RAINIER AVE S BETWEEN S BAYVIEW ST AND S MCCLE...</td>\n",
       "      <td>96</td>\n",
       "    </tr>\n",
       "    <tr>\n",
       "      <th>5635</th>\n",
       "      <td>AURORA AVE N BETWEEN N 130TH ST AND N 135TH ST</td>\n",
       "      <td>94</td>\n",
       "    </tr>\n",
       "    <tr>\n",
       "      <th>5764</th>\n",
       "      <td>BATTERY ST TUNNEL SB BETWEEN AURORA AVE N AND ...</td>\n",
       "      <td>93</td>\n",
       "    </tr>\n",
       "    <tr>\n",
       "      <th>5763</th>\n",
       "      <td>BATTERY ST TUNNEL NB BETWEEN ALASKAN WY VI NB ...</td>\n",
       "      <td>81</td>\n",
       "    </tr>\n",
       "  </tbody>\n",
       "</table>\n",
       "</div>"
      ],
      "text/plain": [
       "                                                LOCATION  INCKEY\n",
       "5631      AURORA AVE N BETWEEN N 117TH PL AND N 125TH ST     124\n",
       "4697                                6TH AVE AND JAMES ST     111\n",
       "9263   N NORTHGATE WAY BETWEEN MERIDIAN AVE N AND COR...      96\n",
       "10378  RAINIER AVE S BETWEEN S BAYVIEW ST AND S MCCLE...      96\n",
       "5635      AURORA AVE N BETWEEN N 130TH ST AND N 135TH ST      94\n",
       "5764   BATTERY ST TUNNEL SB BETWEEN AURORA AVE N AND ...      93\n",
       "5763   BATTERY ST TUNNEL NB BETWEEN ALASKAN WY VI NB ...      81"
      ]
     },
     "execution_count": 34,
     "metadata": {},
     "output_type": "execute_result"
    }
   ],
   "source": [
    "severity = ['Fatality', 'Serious_injury', 'Injury']\n",
    "sevdf = df[(df['SEVERITYCODE'].isin(severity))]\n",
    "sevcdf = sevdf.groupby('LOCATION').size().to_frame('INCKEY').reset_index()\n",
    "sevcdf.sort_values('INCKEY', ascending=False, inplace=True)\n",
    "most_sev = sevcdf.head(7)\n",
    "most_sev"
   ]
  },
  {
   "cell_type": "code",
   "execution_count": 53,
   "metadata": {
    "scrolled": true
   },
   "outputs": [
    {
     "data": {
      "text/plain": [
       "['AURORA AVE N BETWEEN N 117TH PL AND N 125TH ST',\n",
       " '6TH AVE AND JAMES ST',\n",
       " 'N NORTHGATE WAY BETWEEN MERIDIAN AVE N AND CORLISS AVE N',\n",
       " 'RAINIER AVE S BETWEEN S BAYVIEW ST AND S MCCLELLAN ST',\n",
       " 'AURORA AVE N BETWEEN N 130TH ST AND N 135TH ST',\n",
       " 'BATTERY ST TUNNEL SB BETWEEN AURORA AVE N AND ALASKAN WY VI SB',\n",
       " 'BATTERY ST TUNNEL NB BETWEEN ALASKAN WY VI NB AND AURORA AVE N']"
      ]
     },
     "execution_count": 53,
     "metadata": {},
     "output_type": "execute_result"
    }
   ],
   "source": [
    "mostsevlocations = list(most_sev.LOCATION)\n",
    "mostsevlocations"
   ]
  },
  {
   "cell_type": "markdown",
   "metadata": {},
   "source": [
    "Note: Locations that have the highest numbers of incidents and locations that have more severe incidetns don't overlap a lot"
   ]
  },
  {
   "cell_type": "code",
   "execution_count": 35,
   "metadata": {},
   "outputs": [
    {
     "data": {
      "text/plain": [
       "(12720, 2)"
      ]
     },
     "execution_count": 35,
     "metadata": {},
     "output_type": "execute_result"
    }
   ],
   "source": [
    "sevcdf.shape"
   ]
  },
  {
   "cell_type": "code",
   "execution_count": 36,
   "metadata": {},
   "outputs": [
    {
     "data": {
      "text/plain": [
       "60845"
      ]
     },
     "execution_count": 36,
     "metadata": {},
     "output_type": "execute_result"
    }
   ],
   "source": [
    "sevcdf.INCKEY.sum()"
   ]
  },
  {
   "cell_type": "markdown",
   "metadata": {},
   "source": [
    "Note: sevcdf contains 12,720 rows (=locations) but 60,845 incidents. "
   ]
  },
  {
   "cell_type": "markdown",
   "metadata": {},
   "source": [
    "## 8.2 Categorial columns"
   ]
  },
  {
   "cell_type": "markdown",
   "metadata": {},
   "source": [
    "## f. Look at frequencies"
   ]
  },
  {
   "cell_type": "markdown",
   "metadata": {},
   "source": [
    "### External factors"
   ]
  },
  {
   "cell_type": "code",
   "execution_count": 37,
   "metadata": {},
   "outputs": [
    {
     "data": {
      "text/html": [
       "<div>\n",
       "<style scoped>\n",
       "    .dataframe tbody tr th:only-of-type {\n",
       "        vertical-align: middle;\n",
       "    }\n",
       "\n",
       "    .dataframe tbody tr th {\n",
       "        vertical-align: top;\n",
       "    }\n",
       "\n",
       "    .dataframe thead th {\n",
       "        text-align: right;\n",
       "    }\n",
       "</style>\n",
       "<table border=\"1\" class=\"dataframe\">\n",
       "  <thead>\n",
       "    <tr style=\"text-align: right;\">\n",
       "      <th></th>\n",
       "      <th>LIGHTCOND</th>\n",
       "      <th>OBJECTID</th>\n",
       "    </tr>\n",
       "  </thead>\n",
       "  <tbody>\n",
       "    <tr>\n",
       "      <th>0</th>\n",
       "      <td>Dark - No Street Lights</td>\n",
       "      <td>1535</td>\n",
       "    </tr>\n",
       "    <tr>\n",
       "      <th>1</th>\n",
       "      <td>Dark - Street Lights Off</td>\n",
       "      <td>1222</td>\n",
       "    </tr>\n",
       "    <tr>\n",
       "      <th>2</th>\n",
       "      <td>Dark - Street Lights On</td>\n",
       "      <td>48891</td>\n",
       "    </tr>\n",
       "    <tr>\n",
       "      <th>3</th>\n",
       "      <td>Dawn</td>\n",
       "      <td>2531</td>\n",
       "    </tr>\n",
       "    <tr>\n",
       "      <th>4</th>\n",
       "      <td>Daylight</td>\n",
       "      <td>117060</td>\n",
       "    </tr>\n",
       "    <tr>\n",
       "      <th>5</th>\n",
       "      <td>Dusk</td>\n",
       "      <td>5956</td>\n",
       "    </tr>\n",
       "    <tr>\n",
       "      <th>6</th>\n",
       "      <td>Other</td>\n",
       "      <td>236</td>\n",
       "    </tr>\n",
       "    <tr>\n",
       "      <th>7</th>\n",
       "      <td>Unknown</td>\n",
       "      <td>13451</td>\n",
       "    </tr>\n",
       "  </tbody>\n",
       "</table>\n",
       "</div>"
      ],
      "text/plain": [
       "                  LIGHTCOND  OBJECTID\n",
       "0   Dark - No Street Lights      1535\n",
       "1  Dark - Street Lights Off      1222\n",
       "2   Dark - Street Lights On     48891\n",
       "3                      Dawn      2531\n",
       "4                  Daylight    117060\n",
       "5                      Dusk      5956\n",
       "6                     Other       236\n",
       "7                   Unknown     13451"
      ]
     },
     "execution_count": 37,
     "metadata": {},
     "output_type": "execute_result"
    }
   ],
   "source": [
    "df.groupby('LIGHTCOND').size().to_frame('OBJECTID').reset_index()"
   ]
  },
  {
   "cell_type": "code",
   "execution_count": 38,
   "metadata": {},
   "outputs": [
    {
     "data": {
      "text/html": [
       "<div>\n",
       "<style scoped>\n",
       "    .dataframe tbody tr th:only-of-type {\n",
       "        vertical-align: middle;\n",
       "    }\n",
       "\n",
       "    .dataframe tbody tr th {\n",
       "        vertical-align: top;\n",
       "    }\n",
       "\n",
       "    .dataframe thead th {\n",
       "        text-align: right;\n",
       "    }\n",
       "</style>\n",
       "<table border=\"1\" class=\"dataframe\">\n",
       "  <thead>\n",
       "    <tr style=\"text-align: right;\">\n",
       "      <th></th>\n",
       "      <th>WEATHER</th>\n",
       "      <th>OBJECTID</th>\n",
       "    </tr>\n",
       "  </thead>\n",
       "  <tbody>\n",
       "    <tr>\n",
       "      <th>0</th>\n",
       "      <td>Blowing Sand or Dirt or Snow</td>\n",
       "      <td>56</td>\n",
       "    </tr>\n",
       "    <tr>\n",
       "      <th>1</th>\n",
       "      <td>Clear or Partly Cloudy</td>\n",
       "      <td>112498</td>\n",
       "    </tr>\n",
       "    <tr>\n",
       "      <th>2</th>\n",
       "      <td>Fog/Smog/Smoke</td>\n",
       "      <td>574</td>\n",
       "    </tr>\n",
       "    <tr>\n",
       "      <th>3</th>\n",
       "      <td>Other</td>\n",
       "      <td>807</td>\n",
       "    </tr>\n",
       "    <tr>\n",
       "      <th>4</th>\n",
       "      <td>Overcast</td>\n",
       "      <td>27740</td>\n",
       "    </tr>\n",
       "    <tr>\n",
       "      <th>5</th>\n",
       "      <td>Raining</td>\n",
       "      <td>33153</td>\n",
       "    </tr>\n",
       "    <tr>\n",
       "      <th>6</th>\n",
       "      <td>Severe Crosswind</td>\n",
       "      <td>26</td>\n",
       "    </tr>\n",
       "    <tr>\n",
       "      <th>7</th>\n",
       "      <td>Sleet/Hail/Freezing Rain</td>\n",
       "      <td>110</td>\n",
       "    </tr>\n",
       "    <tr>\n",
       "      <th>8</th>\n",
       "      <td>Snowing</td>\n",
       "      <td>900</td>\n",
       "    </tr>\n",
       "    <tr>\n",
       "      <th>9</th>\n",
       "      <td>Unknown</td>\n",
       "      <td>15113</td>\n",
       "    </tr>\n",
       "  </tbody>\n",
       "</table>\n",
       "</div>"
      ],
      "text/plain": [
       "                        WEATHER  OBJECTID\n",
       "0  Blowing Sand or Dirt or Snow        56\n",
       "1        Clear or Partly Cloudy    112498\n",
       "2                Fog/Smog/Smoke       574\n",
       "3                         Other       807\n",
       "4                      Overcast     27740\n",
       "5                       Raining     33153\n",
       "6              Severe Crosswind        26\n",
       "7      Sleet/Hail/Freezing Rain       110\n",
       "8                       Snowing       900\n",
       "9                       Unknown     15113"
      ]
     },
     "execution_count": 38,
     "metadata": {},
     "output_type": "execute_result"
    }
   ],
   "source": [
    "df.groupby('WEATHER').size().to_frame('OBJECTID').reset_index()"
   ]
  },
  {
   "cell_type": "markdown",
   "metadata": {},
   "source": [
    "## People factors"
   ]
  },
  {
   "cell_type": "code",
   "execution_count": 39,
   "metadata": {},
   "outputs": [
    {
     "data": {
      "text/markdown": [
       "### INATTENTIONIND"
      ],
      "text/plain": [
       "<IPython.core.display.Markdown object>"
      ]
     },
     "metadata": {},
     "output_type": "display_data"
    },
    {
     "data": {
      "text/html": [
       "<div>\n",
       "<style scoped>\n",
       "    .dataframe tbody tr th:only-of-type {\n",
       "        vertical-align: middle;\n",
       "    }\n",
       "\n",
       "    .dataframe tbody tr th {\n",
       "        vertical-align: top;\n",
       "    }\n",
       "\n",
       "    .dataframe thead th {\n",
       "        text-align: right;\n",
       "    }\n",
       "</style>\n",
       "<table border=\"1\" class=\"dataframe\">\n",
       "  <thead>\n",
       "    <tr style=\"text-align: right;\">\n",
       "      <th></th>\n",
       "      <th>INATTENTIONIND</th>\n",
       "      <th>OBJECTID</th>\n",
       "    </tr>\n",
       "  </thead>\n",
       "  <tbody>\n",
       "    <tr>\n",
       "      <th>0</th>\n",
       "      <td>Y</td>\n",
       "      <td>30041</td>\n",
       "    </tr>\n",
       "  </tbody>\n",
       "</table>\n",
       "</div>"
      ],
      "text/plain": [
       "  INATTENTIONIND  OBJECTID\n",
       "0              Y     30041"
      ]
     },
     "metadata": {},
     "output_type": "display_data"
    },
    {
     "data": {
      "text/markdown": [
       "### UNDERINFL"
      ],
      "text/plain": [
       "<IPython.core.display.Markdown object>"
      ]
     },
     "metadata": {},
     "output_type": "display_data"
    },
    {
     "data": {
      "text/html": [
       "<div>\n",
       "<style scoped>\n",
       "    .dataframe tbody tr th:only-of-type {\n",
       "        vertical-align: middle;\n",
       "    }\n",
       "\n",
       "    .dataframe tbody tr th {\n",
       "        vertical-align: top;\n",
       "    }\n",
       "\n",
       "    .dataframe thead th {\n",
       "        text-align: right;\n",
       "    }\n",
       "</style>\n",
       "<table border=\"1\" class=\"dataframe\">\n",
       "  <thead>\n",
       "    <tr style=\"text-align: right;\">\n",
       "      <th></th>\n",
       "      <th>UNDERINFL</th>\n",
       "      <th>OBJECTID</th>\n",
       "    </tr>\n",
       "  </thead>\n",
       "  <tbody>\n",
       "    <tr>\n",
       "      <th>0</th>\n",
       "      <td>0</td>\n",
       "      <td>81685</td>\n",
       "    </tr>\n",
       "    <tr>\n",
       "      <th>1</th>\n",
       "      <td>1</td>\n",
       "      <td>4231</td>\n",
       "    </tr>\n",
       "    <tr>\n",
       "      <th>2</th>\n",
       "      <td>N</td>\n",
       "      <td>99905</td>\n",
       "    </tr>\n",
       "    <tr>\n",
       "      <th>3</th>\n",
       "      <td>Y</td>\n",
       "      <td>5352</td>\n",
       "    </tr>\n",
       "  </tbody>\n",
       "</table>\n",
       "</div>"
      ],
      "text/plain": [
       "  UNDERINFL  OBJECTID\n",
       "0         0     81685\n",
       "1         1      4231\n",
       "2         N     99905\n",
       "3         Y      5352"
      ]
     },
     "metadata": {},
     "output_type": "display_data"
    },
    {
     "data": {
      "text/markdown": [
       "### PEDROWNOTGRNT"
      ],
      "text/plain": [
       "<IPython.core.display.Markdown object>"
      ]
     },
     "metadata": {},
     "output_type": "display_data"
    },
    {
     "data": {
      "text/html": [
       "<div>\n",
       "<style scoped>\n",
       "    .dataframe tbody tr th:only-of-type {\n",
       "        vertical-align: middle;\n",
       "    }\n",
       "\n",
       "    .dataframe tbody tr th {\n",
       "        vertical-align: top;\n",
       "    }\n",
       "\n",
       "    .dataframe thead th {\n",
       "        text-align: right;\n",
       "    }\n",
       "</style>\n",
       "<table border=\"1\" class=\"dataframe\">\n",
       "  <thead>\n",
       "    <tr style=\"text-align: right;\">\n",
       "      <th></th>\n",
       "      <th>PEDROWNOTGRNT</th>\n",
       "      <th>OBJECTID</th>\n",
       "    </tr>\n",
       "  </thead>\n",
       "  <tbody>\n",
       "    <tr>\n",
       "      <th>0</th>\n",
       "      <td>Y</td>\n",
       "      <td>5085</td>\n",
       "    </tr>\n",
       "  </tbody>\n",
       "</table>\n",
       "</div>"
      ],
      "text/plain": [
       "  PEDROWNOTGRNT  OBJECTID\n",
       "0             Y      5085"
      ]
     },
     "metadata": {},
     "output_type": "display_data"
    },
    {
     "data": {
      "text/markdown": [
       "### SPEEDING"
      ],
      "text/plain": [
       "<IPython.core.display.Markdown object>"
      ]
     },
     "metadata": {},
     "output_type": "display_data"
    },
    {
     "data": {
      "text/html": [
       "<div>\n",
       "<style scoped>\n",
       "    .dataframe tbody tr th:only-of-type {\n",
       "        vertical-align: middle;\n",
       "    }\n",
       "\n",
       "    .dataframe tbody tr th {\n",
       "        vertical-align: top;\n",
       "    }\n",
       "\n",
       "    .dataframe thead th {\n",
       "        text-align: right;\n",
       "    }\n",
       "</style>\n",
       "<table border=\"1\" class=\"dataframe\">\n",
       "  <thead>\n",
       "    <tr style=\"text-align: right;\">\n",
       "      <th></th>\n",
       "      <th>SPEEDING</th>\n",
       "      <th>OBJECTID</th>\n",
       "    </tr>\n",
       "  </thead>\n",
       "  <tbody>\n",
       "    <tr>\n",
       "      <th>0</th>\n",
       "      <td>Y</td>\n",
       "      <td>9677</td>\n",
       "    </tr>\n",
       "  </tbody>\n",
       "</table>\n",
       "</div>"
      ],
      "text/plain": [
       "  SPEEDING  OBJECTID\n",
       "0        Y      9677"
      ]
     },
     "metadata": {},
     "output_type": "display_data"
    }
   ],
   "source": [
    "people_factors = ['INATTENTIONIND', 'UNDERINFL', 'PEDROWNOTGRNT', 'SPEEDING']\n",
    "for factor in people_factors:\n",
    "  display(Markdown(f\"### {factor}\"))\n",
    "  display(df.groupby(factor).size().to_frame('OBJECTID').reset_index())"
   ]
  },
  {
   "cell_type": "markdown",
   "metadata": {},
   "source": [
    "## Characteristics of the collision site"
   ]
  },
  {
   "cell_type": "code",
   "execution_count": 40,
   "metadata": {},
   "outputs": [
    {
     "data": {
      "text/markdown": [
       "### ADDRTYPE"
      ],
      "text/plain": [
       "<IPython.core.display.Markdown object>"
      ]
     },
     "metadata": {},
     "output_type": "display_data"
    },
    {
     "data": {
      "text/html": [
       "<div>\n",
       "<style scoped>\n",
       "    .dataframe tbody tr th:only-of-type {\n",
       "        vertical-align: middle;\n",
       "    }\n",
       "\n",
       "    .dataframe tbody tr th {\n",
       "        vertical-align: top;\n",
       "    }\n",
       "\n",
       "    .dataframe thead th {\n",
       "        text-align: right;\n",
       "    }\n",
       "</style>\n",
       "<table border=\"1\" class=\"dataframe\">\n",
       "  <thead>\n",
       "    <tr style=\"text-align: right;\">\n",
       "      <th></th>\n",
       "      <th>ADDRTYPE</th>\n",
       "      <th>OBJECTID</th>\n",
       "    </tr>\n",
       "  </thead>\n",
       "  <tbody>\n",
       "    <tr>\n",
       "      <th>0</th>\n",
       "      <td>Alley</td>\n",
       "      <td>856</td>\n",
       "    </tr>\n",
       "    <tr>\n",
       "      <th>1</th>\n",
       "      <td>Block</td>\n",
       "      <td>142758</td>\n",
       "    </tr>\n",
       "    <tr>\n",
       "      <th>2</th>\n",
       "      <td>Intersection</td>\n",
       "      <td>70621</td>\n",
       "    </tr>\n",
       "  </tbody>\n",
       "</table>\n",
       "</div>"
      ],
      "text/plain": [
       "       ADDRTYPE  OBJECTID\n",
       "0         Alley       856\n",
       "1         Block    142758\n",
       "2  Intersection     70621"
      ]
     },
     "metadata": {},
     "output_type": "display_data"
    },
    {
     "data": {
      "text/markdown": [
       "### JUNCTIONTYPE"
      ],
      "text/plain": [
       "<IPython.core.display.Markdown object>"
      ]
     },
     "metadata": {},
     "output_type": "display_data"
    },
    {
     "data": {
      "text/html": [
       "<div>\n",
       "<style scoped>\n",
       "    .dataframe tbody tr th:only-of-type {\n",
       "        vertical-align: middle;\n",
       "    }\n",
       "\n",
       "    .dataframe tbody tr th {\n",
       "        vertical-align: top;\n",
       "    }\n",
       "\n",
       "    .dataframe thead th {\n",
       "        text-align: right;\n",
       "    }\n",
       "</style>\n",
       "<table border=\"1\" class=\"dataframe\">\n",
       "  <thead>\n",
       "    <tr style=\"text-align: right;\">\n",
       "      <th></th>\n",
       "      <th>JUNCTIONTYPE</th>\n",
       "      <th>OBJECTID</th>\n",
       "    </tr>\n",
       "  </thead>\n",
       "  <tbody>\n",
       "    <tr>\n",
       "      <th>0</th>\n",
       "      <td>At Intersection (but not related to intersection)</td>\n",
       "      <td>2492</td>\n",
       "    </tr>\n",
       "    <tr>\n",
       "      <th>1</th>\n",
       "      <td>At Intersection (intersection related)</td>\n",
       "      <td>67919</td>\n",
       "    </tr>\n",
       "    <tr>\n",
       "      <th>2</th>\n",
       "      <td>Driveway Junction</td>\n",
       "      <td>11363</td>\n",
       "    </tr>\n",
       "    <tr>\n",
       "      <th>3</th>\n",
       "      <td>Mid-Block (but intersection related)</td>\n",
       "      <td>24252</td>\n",
       "    </tr>\n",
       "    <tr>\n",
       "      <th>4</th>\n",
       "      <td>Mid-Block (not related to intersection)</td>\n",
       "      <td>99639</td>\n",
       "    </tr>\n",
       "    <tr>\n",
       "      <th>5</th>\n",
       "      <td>Ramp Junction</td>\n",
       "      <td>190</td>\n",
       "    </tr>\n",
       "    <tr>\n",
       "      <th>6</th>\n",
       "      <td>Unknown</td>\n",
       "      <td>19</td>\n",
       "    </tr>\n",
       "  </tbody>\n",
       "</table>\n",
       "</div>"
      ],
      "text/plain": [
       "                                        JUNCTIONTYPE  OBJECTID\n",
       "0  At Intersection (but not related to intersection)      2492\n",
       "1             At Intersection (intersection related)     67919\n",
       "2                                  Driveway Junction     11363\n",
       "3               Mid-Block (but intersection related)     24252\n",
       "4            Mid-Block (not related to intersection)     99639\n",
       "5                                      Ramp Junction       190\n",
       "6                                            Unknown        19"
      ]
     },
     "metadata": {},
     "output_type": "display_data"
    },
    {
     "data": {
      "text/markdown": [
       "### ROADCOND"
      ],
      "text/plain": [
       "<IPython.core.display.Markdown object>"
      ]
     },
     "metadata": {},
     "output_type": "display_data"
    },
    {
     "data": {
      "text/html": [
       "<div>\n",
       "<style scoped>\n",
       "    .dataframe tbody tr th:only-of-type {\n",
       "        vertical-align: middle;\n",
       "    }\n",
       "\n",
       "    .dataframe tbody tr th {\n",
       "        vertical-align: top;\n",
       "    }\n",
       "\n",
       "    .dataframe thead th {\n",
       "        text-align: right;\n",
       "    }\n",
       "</style>\n",
       "<table border=\"1\" class=\"dataframe\">\n",
       "  <thead>\n",
       "    <tr style=\"text-align: right;\">\n",
       "      <th></th>\n",
       "      <th>ROADCOND</th>\n",
       "      <th>OBJECTID</th>\n",
       "    </tr>\n",
       "  </thead>\n",
       "  <tbody>\n",
       "    <tr>\n",
       "      <th>0</th>\n",
       "      <td>Dry</td>\n",
       "      <td>125989</td>\n",
       "    </tr>\n",
       "    <tr>\n",
       "      <th>1</th>\n",
       "      <td>Ice</td>\n",
       "      <td>1215</td>\n",
       "    </tr>\n",
       "    <tr>\n",
       "      <th>2</th>\n",
       "      <td>Oil</td>\n",
       "      <td>64</td>\n",
       "    </tr>\n",
       "    <tr>\n",
       "      <th>3</th>\n",
       "      <td>Other</td>\n",
       "      <td>131</td>\n",
       "    </tr>\n",
       "    <tr>\n",
       "      <th>4</th>\n",
       "      <td>Sand/Mud/Dirt</td>\n",
       "      <td>75</td>\n",
       "    </tr>\n",
       "    <tr>\n",
       "      <th>5</th>\n",
       "      <td>Snow/Slush</td>\n",
       "      <td>1005</td>\n",
       "    </tr>\n",
       "    <tr>\n",
       "      <th>6</th>\n",
       "      <td>Standing Water</td>\n",
       "      <td>116</td>\n",
       "    </tr>\n",
       "    <tr>\n",
       "      <th>7</th>\n",
       "      <td>Unknown</td>\n",
       "      <td>15038</td>\n",
       "    </tr>\n",
       "    <tr>\n",
       "      <th>8</th>\n",
       "      <td>Wet</td>\n",
       "      <td>47415</td>\n",
       "    </tr>\n",
       "  </tbody>\n",
       "</table>\n",
       "</div>"
      ],
      "text/plain": [
       "         ROADCOND  OBJECTID\n",
       "0             Dry    125989\n",
       "1             Ice      1215\n",
       "2             Oil        64\n",
       "3           Other       131\n",
       "4   Sand/Mud/Dirt        75\n",
       "5      Snow/Slush      1005\n",
       "6  Standing Water       116\n",
       "7         Unknown     15038\n",
       "8             Wet     47415"
      ]
     },
     "metadata": {},
     "output_type": "display_data"
    }
   ],
   "source": [
    "site_characteristics = ['ADDRTYPE', 'JUNCTIONTYPE', 'ROADCOND']\n",
    "for characteristics in site_characteristics:\n",
    "  display(Markdown(f\"### {characteristics}\"))\n",
    "  display(df.groupby(characteristics).size().to_frame('OBJECTID').reset_index())"
   ]
  },
  {
   "cell_type": "markdown",
   "metadata": {},
   "source": [
    "## g. Handling missing categories"
   ]
  },
  {
   "cell_type": "markdown",
   "metadata": {},
   "source": [
    "## 9. Understand relations between columns"
   ]
  },
  {
   "cell_type": "markdown",
   "metadata": {},
   "source": [
    "## a. Scatter plots"
   ]
  },
  {
   "cell_type": "markdown",
   "metadata": {},
   "source": [
    "Is there a correlation between the total number of incidents and number of severe incidents?"
   ]
  },
  {
   "cell_type": "code",
   "execution_count": 51,
   "metadata": {},
   "outputs": [
    {
     "data": {
      "text/html": [
       "<div>\n",
       "<style scoped>\n",
       "    .dataframe tbody tr th:only-of-type {\n",
       "        vertical-align: middle;\n",
       "    }\n",
       "\n",
       "    .dataframe tbody tr th {\n",
       "        vertical-align: top;\n",
       "    }\n",
       "\n",
       "    .dataframe thead th {\n",
       "        text-align: right;\n",
       "    }\n",
       "</style>\n",
       "<table border=\"1\" class=\"dataframe\">\n",
       "  <thead>\n",
       "    <tr style=\"text-align: right;\">\n",
       "      <th></th>\n",
       "      <th>LOCATION</th>\n",
       "      <th>Total_incidents</th>\n",
       "      <th>Severe_incidents</th>\n",
       "    </tr>\n",
       "  </thead>\n",
       "  <tbody>\n",
       "    <tr>\n",
       "      <th>0</th>\n",
       "      <td>BATTERY ST TUNNEL NB BETWEEN ALASKAN WY VI NB ...</td>\n",
       "      <td>298</td>\n",
       "      <td>81</td>\n",
       "    </tr>\n",
       "    <tr>\n",
       "      <th>1</th>\n",
       "      <td>N NORTHGATE WAY BETWEEN MERIDIAN AVE N AND COR...</td>\n",
       "      <td>294</td>\n",
       "      <td>96</td>\n",
       "    </tr>\n",
       "    <tr>\n",
       "      <th>2</th>\n",
       "      <td>BATTERY ST TUNNEL SB BETWEEN AURORA AVE N AND ...</td>\n",
       "      <td>291</td>\n",
       "      <td>93</td>\n",
       "    </tr>\n",
       "    <tr>\n",
       "      <th>3</th>\n",
       "      <td>AURORA AVE N BETWEEN N 117TH PL AND N 125TH ST</td>\n",
       "      <td>278</td>\n",
       "      <td>124</td>\n",
       "    </tr>\n",
       "    <tr>\n",
       "      <th>4</th>\n",
       "      <td>6TH AVE AND JAMES ST</td>\n",
       "      <td>270</td>\n",
       "      <td>111</td>\n",
       "    </tr>\n",
       "    <tr>\n",
       "      <th>5</th>\n",
       "      <td>AURORA AVE N BETWEEN N 130TH ST AND N 135TH ST</td>\n",
       "      <td>264</td>\n",
       "      <td>94</td>\n",
       "    </tr>\n",
       "    <tr>\n",
       "      <th>6</th>\n",
       "      <td>ALASKAN WY VI NB BETWEEN S ROYAL BROUGHAM WAY ...</td>\n",
       "      <td>256</td>\n",
       "      <td>68</td>\n",
       "    </tr>\n",
       "  </tbody>\n",
       "</table>\n",
       "</div>"
      ],
      "text/plain": [
       "                                            LOCATION  Total_incidents  \\\n",
       "0  BATTERY ST TUNNEL NB BETWEEN ALASKAN WY VI NB ...              298   \n",
       "1  N NORTHGATE WAY BETWEEN MERIDIAN AVE N AND COR...              294   \n",
       "2  BATTERY ST TUNNEL SB BETWEEN AURORA AVE N AND ...              291   \n",
       "3     AURORA AVE N BETWEEN N 117TH PL AND N 125TH ST              278   \n",
       "4                               6TH AVE AND JAMES ST              270   \n",
       "5     AURORA AVE N BETWEEN N 130TH ST AND N 135TH ST              264   \n",
       "6  ALASKAN WY VI NB BETWEEN S ROYAL BROUGHAM WAY ...              256   \n",
       "\n",
       "   Severe_incidents  \n",
       "0                81  \n",
       "1                96  \n",
       "2                93  \n",
       "3               124  \n",
       "4               111  \n",
       "5                94  \n",
       "6                68  "
      ]
     },
     "execution_count": 51,
     "metadata": {},
     "output_type": "execute_result"
    }
   ],
   "source": [
    "# Trying to see these locations' total # of incidents and # of severe incidents by merging two dataframes\n",
    "sev_num = pd.merge(locdf, sevcdf, left_on = 'LOCATION', right_on = 'LOCATION')\n",
    "sev_num.rename(columns = {'INCKEY_x': 'Total_incidents', 'INCKEY_y': 'Severe_incidents'}, inplace=True)\n",
    "sev_num.head(10)"
   ]
  },
  {
   "cell_type": "code",
   "execution_count": 52,
   "metadata": {},
   "outputs": [
    {
     "data": {
      "image/png": "[encoded data removed]",
      "text/plain": [
       "<Figure size 432x288 with 1 Axes>"
      ]
     },
     "metadata": {
      "needs_background": "light"
     },
     "output_type": "display_data"
    }
   ],
   "source": [
    "# I have to redo this plot because I selected top 7 locations in sev_num, so it's not much of a scatter plot anymore\n",
    "plt.scatter(x=sev_num['Total_incidents'], y=sev_num['Severe_incidents'])\n",
    "plt.show()"
   ]
  },
  {
   "cell_type": "markdown",
   "metadata": {},
   "source": [
    "## b. Bar graphs"
   ]
  },
  {
   "cell_type": "markdown",
   "metadata": {},
   "source": [
    "## Incidents by type of location"
   ]
  },
  {
   "cell_type": "code",
   "execution_count": 42,
   "metadata": {},
   "outputs": [
    {
     "data": {
      "image/png": "[encoded data removed]",
      "text/plain": [
       "<Figure size 720x360 with 1 Axes>"
      ]
     },
     "metadata": {
      "needs_background": "light"
     },
     "output_type": "display_data"
    }
   ],
   "source": [
    "fig = plt.figure(figsize=(10, 5))\n",
    "\n",
    "chart = sns.barplot(data= df, x= 'ADDRTYPE', y= 'OBJECTID')\n",
    "\n",
    "plt.tight_layout()"
   ]
  },
  {
   "cell_type": "markdown",
   "metadata": {},
   "source": [
    "## Incidents by type of collision"
   ]
  },
  {
   "cell_type": "code",
   "execution_count": 43,
   "metadata": {},
   "outputs": [
    {
     "data": {
      "text/html": [
       "<div>\n",
       "<style scoped>\n",
       "    .dataframe tbody tr th:only-of-type {\n",
       "        vertical-align: middle;\n",
       "    }\n",
       "\n",
       "    .dataframe tbody tr th {\n",
       "        vertical-align: top;\n",
       "    }\n",
       "\n",
       "    .dataframe thead th {\n",
       "        text-align: right;\n",
       "    }\n",
       "</style>\n",
       "<table border=\"1\" class=\"dataframe\">\n",
       "  <thead>\n",
       "    <tr style=\"text-align: right;\">\n",
       "      <th></th>\n",
       "      <th>COLLISIONTYPE</th>\n",
       "      <th>OBJECTID</th>\n",
       "    </tr>\n",
       "  </thead>\n",
       "  <tbody>\n",
       "    <tr>\n",
       "      <th>0</th>\n",
       "      <td>Angles</td>\n",
       "      <td>34664</td>\n",
       "    </tr>\n",
       "    <tr>\n",
       "      <th>1</th>\n",
       "      <td>Cycles</td>\n",
       "      <td>5802</td>\n",
       "    </tr>\n",
       "    <tr>\n",
       "      <th>2</th>\n",
       "      <td>Head On</td>\n",
       "      <td>2122</td>\n",
       "    </tr>\n",
       "    <tr>\n",
       "      <th>3</th>\n",
       "      <td>Left Turn</td>\n",
       "      <td>13837</td>\n",
       "    </tr>\n",
       "    <tr>\n",
       "      <th>4</th>\n",
       "      <td>Other</td>\n",
       "      <td>24027</td>\n",
       "    </tr>\n",
       "  </tbody>\n",
       "</table>\n",
       "</div>"
      ],
      "text/plain": [
       "  COLLISIONTYPE  OBJECTID\n",
       "0        Angles     34664\n",
       "1        Cycles      5802\n",
       "2       Head On      2122\n",
       "3     Left Turn     13837\n",
       "4         Other     24027"
      ]
     },
     "execution_count": 43,
     "metadata": {},
     "output_type": "execute_result"
    }
   ],
   "source": [
    "colldf = df.groupby('COLLISIONTYPE').size().to_frame('OBJECTID').reset_index()\n",
    "colldf.head()"
   ]
  },
  {
   "cell_type": "code",
   "execution_count": 44,
   "metadata": {
    "scrolled": true
   },
   "outputs": [
    {
     "data": {
      "image/png": "[encoded data removed]",
      "text/plain": [
       "<Figure size 720x360 with 1 Axes>"
      ]
     },
     "metadata": {
      "needs_background": "light"
     },
     "output_type": "display_data"
    }
   ],
   "source": [
    "fig = plt.figure(figsize=(10, 5))\n",
    "\n",
    "chart = sns.barplot(data= colldf, x= 'COLLISIONTYPE', y= 'OBJECTID')\n",
    "\n",
    "plt.tight_layout()"
   ]
  },
  {
   "cell_type": "markdown",
   "metadata": {},
   "source": [
    "## Incidents by severity"
   ]
  },
  {
   "cell_type": "code",
   "execution_count": 45,
   "metadata": {},
   "outputs": [
    {
     "data": {
      "text/html": [
       "<div>\n",
       "<style scoped>\n",
       "    .dataframe tbody tr th:only-of-type {\n",
       "        vertical-align: middle;\n",
       "    }\n",
       "\n",
       "    .dataframe tbody tr th {\n",
       "        vertical-align: top;\n",
       "    }\n",
       "\n",
       "    .dataframe thead th {\n",
       "        text-align: right;\n",
       "    }\n",
       "</style>\n",
       "<table border=\"1\" class=\"dataframe\">\n",
       "  <thead>\n",
       "    <tr style=\"text-align: right;\">\n",
       "      <th></th>\n",
       "      <th>SEVERITYCODE</th>\n",
       "      <th>OBJECTID</th>\n",
       "    </tr>\n",
       "  </thead>\n",
       "  <tbody>\n",
       "    <tr>\n",
       "      <th>0</th>\n",
       "      <td>Fatality</td>\n",
       "      <td>341</td>\n",
       "    </tr>\n",
       "    <tr>\n",
       "      <th>1</th>\n",
       "      <td>Injury</td>\n",
       "      <td>57756</td>\n",
       "    </tr>\n",
       "    <tr>\n",
       "      <th>2</th>\n",
       "      <td>Prop_damage</td>\n",
       "      <td>135545</td>\n",
       "    </tr>\n",
       "    <tr>\n",
       "      <th>3</th>\n",
       "      <td>Serious_injury</td>\n",
       "      <td>3029</td>\n",
       "    </tr>\n",
       "    <tr>\n",
       "      <th>4</th>\n",
       "      <td>Unknown</td>\n",
       "      <td>21239</td>\n",
       "    </tr>\n",
       "  </tbody>\n",
       "</table>\n",
       "</div>"
      ],
      "text/plain": [
       "     SEVERITYCODE  OBJECTID\n",
       "0        Fatality       341\n",
       "1          Injury     57756\n",
       "2     Prop_damage    135545\n",
       "3  Serious_injury      3029\n",
       "4         Unknown     21239"
      ]
     },
     "execution_count": 45,
     "metadata": {},
     "output_type": "execute_result"
    }
   ],
   "source": [
    "scdf = df.groupby('SEVERITYCODE').size().to_frame('OBJECTID').reset_index()\n",
    "scdf.head()"
   ]
  },
  {
   "cell_type": "code",
   "execution_count": 46,
   "metadata": {},
   "outputs": [
    {
     "data": {
      "image/png": "[encoded data removed]",
      "text/plain": [
       "<Figure size 720x360 with 1 Axes>"
      ]
     },
     "metadata": {
      "needs_background": "light"
     },
     "output_type": "display_data"
    }
   ],
   "source": [
    "fig = plt.figure(figsize=(10, 5))\n",
    "\n",
    "chart = sns.barplot(data= scdf, x= 'SEVERITYCODE', y= 'OBJECTID')\n",
    "\n",
    "plt.tight_layout()"
   ]
  },
  {
   "cell_type": "markdown",
   "metadata": {},
   "source": [
    "Note: SEVERITYCODE and SEVERITYDESC have the same information\n"
   ]
  },
  {
   "cell_type": "code",
   "execution_count": 47,
   "metadata": {},
   "outputs": [
    {
     "data": {
      "text/plain": [
       "<matplotlib.axes._subplots.AxesSubplot at 0x12c6fb050>"
      ]
     },
     "execution_count": 47,
     "metadata": {},
     "output_type": "execute_result"
    },
    {
     "data": {
      "image/png": "[encoded data removed]",
      "text/plain": [
       "<Figure size 432x288 with 1 Axes>"
      ]
     },
     "metadata": {
      "needs_background": "light"
     },
     "output_type": "display_data"
    }
   ],
   "source": [
    "pivdf = df[(df['COLLISIONTYPE'] !='Parked Car')]\n",
    "pivdf.pivot_table(index='COLLISIONTYPE', columns='SEVERITYCODE', aggfunc='size').plot.barh(stacked=True)"
   ]
  },
  {
   "cell_type": "markdown",
   "metadata": {},
   "source": [
    "## Severity by type of collision"
   ]
  },
  {
   "cell_type": "code",
   "execution_count": 48,
   "metadata": {},
   "outputs": [
    {
     "data": {
      "text/html": [
       "<div>\n",
       "<style scoped>\n",
       "    .dataframe tbody tr th:only-of-type {\n",
       "        vertical-align: middle;\n",
       "    }\n",
       "\n",
       "    .dataframe tbody tr th {\n",
       "        vertical-align: top;\n",
       "    }\n",
       "\n",
       "    .dataframe thead th {\n",
       "        text-align: right;\n",
       "    }\n",
       "</style>\n",
       "<table border=\"1\" class=\"dataframe\">\n",
       "  <thead>\n",
       "    <tr style=\"text-align: right;\">\n",
       "      <th>SEVERITYCODE</th>\n",
       "      <th>COLLISIONTYPE</th>\n",
       "      <th>Fatality</th>\n",
       "      <th>Injury</th>\n",
       "      <th>Prop_damage</th>\n",
       "      <th>Serious_injury</th>\n",
       "      <th>Unknown</th>\n",
       "    </tr>\n",
       "  </thead>\n",
       "  <tbody>\n",
       "    <tr>\n",
       "      <th>0</th>\n",
       "      <td>Angles</td>\n",
       "      <td>24.0</td>\n",
       "      <td>13453.0</td>\n",
       "      <td>20754.0</td>\n",
       "      <td>432.0</td>\n",
       "      <td>1.0</td>\n",
       "    </tr>\n",
       "    <tr>\n",
       "      <th>1</th>\n",
       "      <td>Cycles</td>\n",
       "      <td>25.0</td>\n",
       "      <td>4695.0</td>\n",
       "      <td>667.0</td>\n",
       "      <td>415.0</td>\n",
       "      <td>NaN</td>\n",
       "    </tr>\n",
       "    <tr>\n",
       "      <th>2</th>\n",
       "      <td>Head On</td>\n",
       "      <td>20.0</td>\n",
       "      <td>862.0</td>\n",
       "      <td>1139.0</td>\n",
       "      <td>101.0</td>\n",
       "      <td>NaN</td>\n",
       "    </tr>\n",
       "    <tr>\n",
       "      <th>3</th>\n",
       "      <td>Left Turn</td>\n",
       "      <td>16.0</td>\n",
       "      <td>5346.0</td>\n",
       "      <td>8207.0</td>\n",
       "      <td>268.0</td>\n",
       "      <td>NaN</td>\n",
       "    </tr>\n",
       "    <tr>\n",
       "      <th>4</th>\n",
       "      <td>Other</td>\n",
       "      <td>91.0</td>\n",
       "      <td>6047.0</td>\n",
       "      <td>17400.0</td>\n",
       "      <td>489.0</td>\n",
       "      <td>NaN</td>\n",
       "    </tr>\n",
       "    <tr>\n",
       "      <th>5</th>\n",
       "      <td>Parked Car</td>\n",
       "      <td>7.0</td>\n",
       "      <td>2629.0</td>\n",
       "      <td>45054.0</td>\n",
       "      <td>125.0</td>\n",
       "      <td>NaN</td>\n",
       "    </tr>\n",
       "    <tr>\n",
       "      <th>6</th>\n",
       "      <td>Pedestrian</td>\n",
       "      <td>125.0</td>\n",
       "      <td>5839.0</td>\n",
       "      <td>658.0</td>\n",
       "      <td>834.0</td>\n",
       "      <td>NaN</td>\n",
       "    </tr>\n",
       "    <tr>\n",
       "      <th>7</th>\n",
       "      <td>Rear Ended</td>\n",
       "      <td>11.0</td>\n",
       "      <td>14564.0</td>\n",
       "      <td>19202.0</td>\n",
       "      <td>222.0</td>\n",
       "      <td>NaN</td>\n",
       "    </tr>\n",
       "    <tr>\n",
       "      <th>8</th>\n",
       "      <td>Right Turn</td>\n",
       "      <td>1.0</td>\n",
       "      <td>602.0</td>\n",
       "      <td>2327.0</td>\n",
       "      <td>20.0</td>\n",
       "      <td>NaN</td>\n",
       "    </tr>\n",
       "    <tr>\n",
       "      <th>9</th>\n",
       "      <td>Sideswipe</td>\n",
       "      <td>10.0</td>\n",
       "      <td>2474.0</td>\n",
       "      <td>15926.0</td>\n",
       "      <td>71.0</td>\n",
       "      <td>NaN</td>\n",
       "    </tr>\n",
       "  </tbody>\n",
       "</table>\n",
       "</div>"
      ],
      "text/plain": [
       "SEVERITYCODE COLLISIONTYPE  Fatality   Injury  Prop_damage  Serious_injury  \\\n",
       "0                   Angles      24.0  13453.0      20754.0           432.0   \n",
       "1                   Cycles      25.0   4695.0        667.0           415.0   \n",
       "2                  Head On      20.0    862.0       1139.0           101.0   \n",
       "3                Left Turn      16.0   5346.0       8207.0           268.0   \n",
       "4                    Other      91.0   6047.0      17400.0           489.0   \n",
       "5               Parked Car       7.0   2629.0      45054.0           125.0   \n",
       "6               Pedestrian     125.0   5839.0        658.0           834.0   \n",
       "7               Rear Ended      11.0  14564.0      19202.0           222.0   \n",
       "8               Right Turn       1.0    602.0       2327.0            20.0   \n",
       "9                Sideswipe      10.0   2474.0      15926.0            71.0   \n",
       "\n",
       "SEVERITYCODE  Unknown  \n",
       "0                 1.0  \n",
       "1                 NaN  \n",
       "2                 NaN  \n",
       "3                 NaN  \n",
       "4                 NaN  \n",
       "5                 NaN  \n",
       "6                 NaN  \n",
       "7                 NaN  \n",
       "8                 NaN  \n",
       "9                 NaN  "
      ]
     },
     "execution_count": 48,
     "metadata": {},
     "output_type": "execute_result"
    }
   ],
   "source": [
    "type_severity = df.groupby(['COLLISIONTYPE', 'SEVERITYCODE'])['INCKEY'].count().reset_index()\n",
    "type_severity_pivot = type_severity.pivot(\n",
    "    columns = 'SEVERITYCODE',\n",
    "    index = 'COLLISIONTYPE',\n",
    "    values = 'INCKEY').reset_index()\n",
    "type_severity_pivot"
   ]
  },
  {
   "cell_type": "code",
   "execution_count": 49,
   "metadata": {},
   "outputs": [
    {
     "data": {
      "text/plain": [
       "<matplotlib.axes._subplots.AxesSubplot at 0x12c87f5d0>"
      ]
     },
     "execution_count": 49,
     "metadata": {},
     "output_type": "execute_result"
    },
    {
     "data": {
      "image/png": "[encoded data removed]",
      "text/plain": [
       "<Figure size 432x288 with 1 Axes>"
      ]
     },
     "metadata": {
      "needs_background": "light"
     },
     "output_type": "display_data"
    }
   ],
   "source": [
    "df.pivot_table(index='JUNCTIONTYPE', columns='SEVERITYCODE', aggfunc='size').plot.barh(stacked=True)"
   ]
  },
  {
   "cell_type": "markdown",
   "metadata": {},
   "source": [
    "# Notes"
   ]
  },
  {
   "cell_type": "code",
   "execution_count": 50,
   "metadata": {},
   "outputs": [
    {
     "data": {
      "text/plain": [
       "['Unmatched', 'Matched']"
      ]
     },
     "execution_count": 50,
     "metadata": {},
     "output_type": "execute_result"
    }
   ],
   "source": [
    "status = list(df['STATUS'].unique())\n",
    "status"
   ]
  },
  {
   "cell_type": "markdown",
   "metadata": {},
   "source": [
    "Note: Not sure what 'matched' means. Not in the dictionary."
   ]
  },
  {
   "cell_type": "code",
   "execution_count": 51,
   "metadata": {},
   "outputs": [
    {
     "data": {
      "text/plain": [
       "array([' ', nan, '13', '71', '32', '10', '14', '11', '23', '12', '45',\n",
       "       '28', '52', '6', '0', '50', '20', '15', '51', '74', '16', '81',\n",
       "       '2', '3', '26', '1', '40', '22', '19', '24', '30', '29', '25', '4',\n",
       "       '5', '21', '57', '72', '83', '53', '66', '56', '27', '41', '73',\n",
       "       '8', '17', '65', '82', '49', '67', '84', '31', '43', '42', '64',\n",
       "       '48', '54', '60', '87', '7', '85', '88', '18'], dtype=object)"
      ]
     },
     "execution_count": 51,
     "metadata": {},
     "output_type": "execute_result"
    }
   ],
   "source": [
    "df.ST_COLCODE.unique()"
   ]
  },
  {
   "cell_type": "code",
   "execution_count": 52,
   "metadata": {},
   "outputs": [
    {
     "data": {
      "text/plain": [
       "array([nan,\n",
       "       'From same direction - both going straight - both moving - rear-end',\n",
       "       'Same direction -- both turning right -- both moving -- sideswipe',\n",
       "       'One parked--one moving', 'Entering at angle',\n",
       "       'From same direction - both going straight - one stopped - rear-end',\n",
       "       'From same direction - both going straight - both moving - sideswipe',\n",
       "       'From same direction - all others',\n",
       "       'From same direction - both going straight - one stopped - sideswipe',\n",
       "       'Vehicle - Pedalcyclist',\n",
       "       'From opposite direction - one left turn - one straight',\n",
       "       'Vehicle overturned', 'Pedalcyclist Strikes Moving Vehicle',\n",
       "       'Vehicle going straight hits pedestrian', 'Fixed object',\n",
       "       'One car leaving parked position',\n",
       "       'From same direction - one left turn - one straight',\n",
       "       'Other object',\n",
       "       'Same direction -- both turning right -- one stopped -- rear end',\n",
       "       'From same direction - one right turn - one straight',\n",
       "       'Same direction -- both turning left -- both moving -- sideswipe',\n",
       "       'Vehicle turning left hits pedestrian',\n",
       "       'Vehicle backing hits pedestrian',\n",
       "       'From opposite direction - both going straight - sideswipe',\n",
       "       'Vehicle turning right hits pedestrian',\n",
       "       'Railway Vehicle Strikes Vehicle',\n",
       "       'One car leaving driveway access',\n",
       "       'One car entering parked position',\n",
       "       'From opposite direction - both moving - head-on',\n",
       "       'From opposite direction - all others',\n",
       "       'From opposite direction - one left turn - one right turn',\n",
       "       'From opposite direction - one stopped - head-on',\n",
       "       'Vehicle hits Pedestrian - All Other Actions',\n",
       "       'Vehicle Strikes Pedalcyclist', 'One car entering driveway access',\n",
       "       'All other non-collision',\n",
       "       'Same direction -- both turning right -- one stopped -- sideswipe',\n",
       "       'Same direction -- both turning left -- both moving -- rear end',\n",
       "       'Person fell, jumped or was pushed from vehicle',\n",
       "       'Vehicle Hits Other Road or Construction Machinery',\n",
       "       'Breakage of any part of the vehicle resulting in injury or in further property damage',\n",
       "       'From opposite direction - both going straight - one stopped - sideswipe',\n",
       "       'Vehicle Strikes Railway Vehicle',\n",
       "       'Same direction -- both turning right -- both moving -- rear end',\n",
       "       'Pedalcyclist All Other Involvements ONE UNIT - PEDALCYCLIST ONLY or PEDALCYCLIST STR',\n",
       "       'Strikes or Was Struck by Object from the Load of Another Vehicle',\n",
       "       'Vehicle Struck by City Road or Construction Machinery',\n",
       "       'Same direction -- both turning left -- one stopped -- sideswipe',\n",
       "       'Non-domestic animal (deer, bear, elk, etc)',\n",
       "       'Vehicle Struck by Other Road or Construction Machinery',\n",
       "       'Same direction -- both turning left -- one stopped -- rear end',\n",
       "       'Not stated', 'Railway Vehicle Strikes Pedalcyclist',\n",
       "       'Railway Vehicle Strikes Pedestrian',\n",
       "       'Vehicle Hits City Road or Construction Machinery',\n",
       "       'Domestic animal other (cat, dog, etc)', 'Fire started in vehicle',\n",
       "       'Vehicle Hits State Road or Construction Machinery',\n",
       "       'Vehicle Strikes All Other Non-Domestic Animal',\n",
       "       'Pedalcyclist Strikes Pedalcyclist or Pedestrian',\n",
       "       'Vehicle Strikes Deer', 'All Other Multi Vehicle',\n",
       "       'Strikes or Was Struck by a Part of Another Vehicle (Not from Load)'],\n",
       "      dtype=object)"
      ]
     },
     "execution_count": 52,
     "metadata": {},
     "output_type": "execute_result"
    }
   ],
   "source": [
    "df.ST_COLDESC.unique()"
   ]
  },
  {
   "cell_type": "code",
   "execution_count": null,
   "metadata": {},
   "outputs": [],
   "source": []
  }
 ],
 "metadata": {
  "kernelspec": {
   "display_name": "Python 3",
   "language": "python",
   "name": "python3"
  },
  "language_info": {
   "codemirror_mode": {
    "name": "ipython",
    "version": 3
   },
   "file_extension": ".py",
   "mimetype": "text/x-python",
   "name": "python",
   "nbconvert_exporter": "python",
   "pygments_lexer": "ipython3",
   "version": "3.6.8"
  }
 },
 "nbformat": 4,
 "nbformat_minor": 4
}
